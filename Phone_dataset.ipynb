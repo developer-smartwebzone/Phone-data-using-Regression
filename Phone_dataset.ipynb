{
 "cells": [
  {
   "cell_type": "code",
   "execution_count": 2,
   "metadata": {
    "collapsed": true
   },
   "outputs": [],
   "source": [
    "import pandas as pd\n",
    "import dateutil\n",
    "df=pd.read_csv(\"phone_data.csv\")\n",
    "#df"
   ]
  },
  {
   "cell_type": "code",
   "execution_count": 3,
   "metadata": {},
   "outputs": [
    {
     "data": {
      "text/plain": [
       "'world'"
      ]
     },
     "execution_count": 3,
     "metadata": {},
     "output_type": "execute_result"
    }
   ],
   "source": [
    "A=df['network'].max()\n",
    "A"
   ]
  },
  {
   "cell_type": "code",
   "execution_count": 4,
   "metadata": {},
   "outputs": [
    {
     "data": {
      "text/plain": [
       "network\n",
       "Meteor        87\n",
       "Tesco         84\n",
       "Three        215\n",
       "Vodafone     215\n",
       "data         150\n",
       "landline      42\n",
       "special        3\n",
       "voicemail     27\n",
       "world          7\n",
       "Name: network_type, dtype: int64"
      ]
     },
     "execution_count": 4,
     "metadata": {},
     "output_type": "execute_result"
    }
   ],
   "source": [
    "B=df.groupby('network')['network_type'].count()\n",
    "B"
   ]
  },
  {
   "cell_type": "code",
   "execution_count": 5,
   "metadata": {},
   "outputs": [
    {
     "data": {
      "text/plain": [
       "network  network_type\n",
       "Three    mobile          215\n",
       "Name: network_type, dtype: int64"
      ]
     },
     "execution_count": 5,
     "metadata": {},
     "output_type": "execute_result"
    }
   ],
   "source": [
    "C=df[df['network']=='Three'].groupby('network')['network_type'].value_counts()\n",
    "C"
   ]
  },
  {
   "cell_type": "code",
   "execution_count": 6,
   "metadata": {},
   "outputs": [
    {
     "name": "stdout",
     "output_type": "stream",
     "text": [
      "[[0 '15-10-2014 06:58' 34.429 'data' '2014-11']\n",
      " [1 '15-10-2014 06:58' 13.0 'call' '2014-11']\n",
      " [2 '15-10-2014 14:46' 23.0 'call' '2014-11']\n",
      " ..., \n",
      " [827 '13-03-2015 06:58' 34.429 'data' '2015-03']\n",
      " [828 '14-03-2015 00:13' 1.0 'sms' '2015-03']\n",
      " [829 '14-03-2015 00:16' 1.0 'sms' '2015-03']]\n"
     ]
    },
    {
     "data": {
      "text/plain": [
       "array(['data', 'Vodafone', 'Meteor', 'Tesco', 'Tesco', 'Tesco', 'data',\n",
       "       'Three', 'Three', 'voicemail', 'Three', 'Meteor', 'Meteor', 'data',\n",
       "       'Tesco', 'Tesco', 'Meteor', 'Vodafone', 'Vodafone', 'Three',\n",
       "       'Vodafone', 'Tesco', 'Vodafone', 'Vodafone', 'Vodafone', 'Vodafone',\n",
       "       'data', 'Tesco', 'Vodafone', 'Vodafone', 'Vodafone', 'Three',\n",
       "       'voicemail', 'Vodafone', 'Three', 'Three', 'Three', 'Vodafone',\n",
       "       'Three', 'data', 'Three', 'Tesco', 'Three', 'Three', 'Three',\n",
       "       'data', 'voicemail', 'voicemail', 'Vodafone', 'landline', 'Tesco',\n",
       "       'Vodafone', 'Vodafone', 'Vodafone', 'data', 'Three', 'data',\n",
       "       'Three', 'data', 'landline', 'Meteor', 'Tesco', 'Vodafone',\n",
       "       'Vodafone', 'Vodafone', 'Meteor', 'data', 'Vodafone', 'Vodafone',\n",
       "       'Vodafone', 'Vodafone', 'Vodafone', 'Vodafone', 'Vodafone',\n",
       "       'Vodafone', 'Three', 'Vodafone', 'Vodafone', 'Tesco', 'Vodafone',\n",
       "       'data', 'data', 'Three', 'Tesco', 'Meteor', 'Three', 'Tesco',\n",
       "       'data', 'Three', 'Three', 'Three', 'Three', 'data', 'landline',\n",
       "       'Tesco', 'data', 'Vodafone', 'data', 'Vodafone', 'Vodafone',\n",
       "       'Meteor', 'data', 'Vodafone', 'Vodafone', 'Three', 'Tesco', 'Three',\n",
       "       'Three', 'Three', 'Meteor', 'Tesco', 'data', 'Vodafone', 'Tesco',\n",
       "       'data', 'Three', 'Three', 'Three', 'Meteor', 'Meteor', 'data',\n",
       "       'special', 'Three', 'Vodafone', 'Vodafone', 'Vodafone', 'Three',\n",
       "       'landline', 'Tesco', 'Vodafone', 'Tesco', 'data', 'Vodafone',\n",
       "       'Vodafone', 'Three', 'Three', 'voicemail', 'voicemail', 'Three',\n",
       "       'Meteor', 'Meteor', 'Meteor', 'Three', 'Meteor', 'Meteor', 'Three',\n",
       "       'Tesco', 'Three', 'Meteor', 'Meteor', 'Meteor', 'data', 'Three',\n",
       "       'Vodafone', 'Vodafone', 'Vodafone', 'Vodafone', 'Vodafone',\n",
       "       'Vodafone', 'data', 'Vodafone', 'Vodafone', 'Vodafone', 'Three',\n",
       "       'Meteor', 'Three', 'Vodafone', 'Vodafone', 'Tesco', 'Vodafone',\n",
       "       'data', 'Vodafone', 'Three', 'Vodafone', 'Vodafone', 'Vodafone',\n",
       "       'Vodafone', 'Vodafone', 'Vodafone', 'Vodafone', 'Vodafone',\n",
       "       'Vodafone', 'data', 'Three', 'Tesco', 'Three', 'Three', 'Three',\n",
       "       'Three', 'data', 'Tesco', 'Three', 'data', 'Vodafone', 'Three',\n",
       "       'Three', 'Three', 'Three', 'Three', 'data', 'Vodafone', 'Vodafone',\n",
       "       'Three', 'Three', 'Meteor', 'Meteor', 'Meteor', 'Three', 'data',\n",
       "       'Vodafone', 'Three', 'Vodafone', 'Three', 'Three', 'Vodafone',\n",
       "       'Vodafone', 'landline', 'Vodafone', 'Vodafone', 'Vodafone',\n",
       "       'Vodafone', 'Three', 'Three', 'Three', 'Vodafone', 'Three', 'Three',\n",
       "       'Vodafone', 'data', 'Three', 'Vodafone', 'data', 'voicemail',\n",
       "       'Vodafone', 'data', 'data', 'Vodafone', 'data', 'data', 'Vodafone',\n",
       "       'Vodafone', 'Vodafone', 'Vodafone', 'Vodafone', 'Vodafone',\n",
       "       'Vodafone', 'Vodafone', 'Vodafone', 'Vodafone', 'data', 'Tesco',\n",
       "       'Meteor', 'Three', 'Vodafone', 'data', 'voicemail', 'Three',\n",
       "       'Meteor', 'Three', 'Three', 'Three', 'Tesco', 'Vodafone', 'data',\n",
       "       'Meteor', 'Meteor', 'Meteor', 'landline', 'Vodafone', 'landline',\n",
       "       'Three', 'Three', 'Tesco', 'Meteor', 'Tesco', 'data', 'Meteor',\n",
       "       'Vodafone', 'Vodafone', 'Vodafone', 'Vodafone', 'data', 'Three',\n",
       "       'Three', 'Three', 'Three', 'Three', 'Three', 'data', 'Three',\n",
       "       'Meteor', 'data', 'Vodafone', 'Meteor', 'Meteor', 'Meteor',\n",
       "       'Meteor', 'Meteor', 'voicemail', 'Tesco', 'Tesco', 'voicemail',\n",
       "       'Tesco', 'voicemail', 'Three', 'data', 'Meteor', 'Vodafone',\n",
       "       'Vodafone', 'Three', 'Vodafone', 'Three', 'Three', 'Three', 'Three',\n",
       "       'Meteor', 'Meteor', 'Meteor', 'Meteor', 'Meteor', 'Three', 'data',\n",
       "       'Three', 'Three', 'data', 'Three', 'Three', 'Tesco', 'data',\n",
       "       'Three', 'data', 'Three', 'Three', 'Three', 'Three', 'Three',\n",
       "       'Three', 'Three', 'data', 'Three', 'Three', 'data', 'Meteor',\n",
       "       'data', 'landline', 'Tesco', 'data', 'Vodafone', 'Three', 'Meteor',\n",
       "       'voicemail', 'data', 'landline', 'Tesco', 'Three', 'data', 'Meteor',\n",
       "       'Vodafone', 'Tesco', 'Vodafone', 'world', 'world', 'Meteor', 'data',\n",
       "       'voicemail', 'Three', 'Three', 'Three', 'Tesco', 'Three', 'world',\n",
       "       'world', 'data', 'Meteor', 'data', 'Tesco', 'data', 'data', 'data',\n",
       "       'Vodafone', 'Vodafone', 'data', 'Three', 'landline', 'landline',\n",
       "       'landline', 'data', 'voicemail', 'Three', 'data', 'Three', 'Three',\n",
       "       'Three', 'Vodafone', 'Three', 'Three', 'data', 'data', 'Vodafone',\n",
       "       'Vodafone', 'data', 'Three', 'Meteor', 'Meteor', 'Meteor', 'Three',\n",
       "       'Tesco', 'Meteor', 'Meteor', 'data', 'Vodafone', 'Three', 'Three',\n",
       "       'Tesco', 'Three', 'Meteor', 'Tesco', 'Tesco', 'Three', 'Vodafone',\n",
       "       'data', 'Tesco', 'Tesco', 'Meteor', 'Tesco', 'Meteor', 'data',\n",
       "       'data', 'Tesco', 'Vodafone', 'Meteor', 'Vodafone', 'Vodafone',\n",
       "       'Vodafone', 'Vodafone', 'Vodafone', 'Vodafone', 'Vodafone', 'Tesco',\n",
       "       'Meteor', 'Meteor', 'Three', 'Tesco', 'data', 'voicemail',\n",
       "       'landline', 'Three', 'Vodafone', 'landline', 'Vodafone',\n",
       "       'voicemail', 'landline', 'Vodafone', 'data', 'Three', 'Tesco',\n",
       "       'Three', 'Three', 'Vodafone', 'Vodafone', 'Meteor', 'Meteor',\n",
       "       'Three', 'data', 'Vodafone', 'data', 'voicemail', 'Vodafone',\n",
       "       'data', 'Meteor', 'Meteor', 'Meteor', 'Meteor', 'data', 'data',\n",
       "       'Tesco', 'data', 'Three', 'Three', 'Three', 'Three', 'Three',\n",
       "       'Three', 'Three', 'Three', 'Three', 'Three', 'Three', 'Three',\n",
       "       'Three', 'Three', 'Three', 'Three', 'Three', 'Three', 'Three',\n",
       "       'data', 'Meteor', 'Meteor', 'landline', 'Vodafone', 'Vodafone',\n",
       "       'Vodafone', 'Vodafone', 'data', 'data', 'Vodafone', 'Meteor',\n",
       "       'Meteor', 'data', 'Vodafone', 'Three', 'data', 'Vodafone',\n",
       "       'Vodafone', 'Vodafone', 'data', 'landline', 'landline', 'Three',\n",
       "       'Three', 'Three', 'Three', 'landline', 'Meteor', 'landline',\n",
       "       'Three', 'Tesco', 'Three', 'data', 'Three', 'Three', 'Meteor',\n",
       "       'Vodafone', 'Vodafone', 'Meteor', 'Vodafone', 'data', 'Vodafone',\n",
       "       'Vodafone', 'Vodafone', 'data', 'Meteor', 'Meteor', 'Meteor',\n",
       "       'Tesco', 'Vodafone', 'Tesco', 'Three', 'Vodafone', 'Vodafone',\n",
       "       'Vodafone', 'Vodafone', 'Vodafone', 'Vodafone', 'data', 'Meteor',\n",
       "       'Three', 'Vodafone', 'Vodafone', 'data', 'Three', 'Vodafone',\n",
       "       'Vodafone', 'Meteor', 'Three', 'Vodafone', 'Vodafone', 'data',\n",
       "       'Vodafone', 'Three', 'data', 'Meteor', 'Meteor', 'Three',\n",
       "       'Vodafone', 'Vodafone', 'data', 'Three', 'Three', 'Three', 'Three',\n",
       "       'Vodafone', 'Vodafone', 'landline', 'landline', 'data', 'landline',\n",
       "       'Three', 'Three', 'Vodafone', 'Vodafone', 'Three', 'Three', 'data',\n",
       "       'Three', 'special', 'Tesco', 'data', 'Meteor', 'Meteor', 'Three',\n",
       "       'Three', 'Tesco', 'Vodafone', 'Vodafone', 'Vodafone', 'Vodafone',\n",
       "       'Three', 'Three', 'data', 'Three', 'Tesco', 'data', 'Three',\n",
       "       'Tesco', 'data', 'Vodafone', 'Tesco', 'Tesco', 'Tesco', 'data',\n",
       "       'Vodafone', 'Vodafone', 'Vodafone', 'data', 'Three', 'voicemail',\n",
       "       'Vodafone', 'voicemail', 'Three', 'Tesco', 'Meteor', 'Vodafone',\n",
       "       'data', 'voicemail', 'Vodafone', 'data', 'landline', 'Tesco',\n",
       "       'Three', 'Vodafone', 'Vodafone', 'Vodafone', 'Tesco', 'data',\n",
       "       'data', 'Vodafone', 'Three', 'data', 'Three', 'Three', 'data',\n",
       "       'Three', 'Meteor', 'data', 'Vodafone', 'landline', 'landline',\n",
       "       'data', 'Vodafone', 'Vodafone', 'Tesco', 'Vodafone', 'Three',\n",
       "       'Tesco', 'Tesco', 'data', 'Tesco', 'Tesco', 'data', 'Tesco',\n",
       "       'Vodafone', 'data', 'landline', 'data', 'Tesco', 'Tesco', 'Tesco',\n",
       "       'Tesco', 'Three', 'Three', 'landline', 'data', 'Three', 'data',\n",
       "       'voicemail', 'Tesco', 'special', 'data', 'voicemail', 'landline',\n",
       "       'data', 'voicemail', 'Vodafone', 'Three', 'Three', 'data',\n",
       "       'Vodafone', 'Vodafone', 'Vodafone', 'Vodafone', 'Three', 'Vodafone',\n",
       "       'Three', 'Three', 'Three', 'Three', 'landline', 'Three', 'Tesco',\n",
       "       'Three', 'Three', 'Three', 'Three', 'data', 'landline', 'data',\n",
       "       'Three', 'Three', 'Three', 'Vodafone', 'Meteor', 'Vodafone',\n",
       "       'Vodafone', 'data', 'Vodafone', 'data', 'data', 'landline', 'Tesco',\n",
       "       'data', 'Vodafone', 'Vodafone', 'data', 'Three', 'Tesco', 'data',\n",
       "       'landline', 'data', 'data', 'Meteor', 'Three', 'data', 'Tesco',\n",
       "       'Three', 'data', 'Vodafone', 'Vodafone', 'Vodafone', 'Vodafone',\n",
       "       'data', 'Vodafone', 'data', 'data', 'data', 'landline', 'data',\n",
       "       'voicemail', 'Three', 'Three', 'data', 'Tesco', 'Vodafone', 'Three',\n",
       "       'Tesco', 'Tesco', 'Tesco', 'Tesco', 'Tesco', 'Tesco', 'Vodafone',\n",
       "       'data', 'Vodafone', 'voicemail', 'data', 'Three', 'Three',\n",
       "       'Vodafone', 'data', 'landline', 'Meteor', 'Three', 'landline',\n",
       "       'landline', 'landline', 'landline', 'landline', 'Three', 'Vodafone',\n",
       "       'Three', 'data', 'Meteor', 'data', 'Vodafone', 'Vodafone',\n",
       "       'Vodafone', 'Vodafone', 'Vodafone', 'Three', 'voicemail',\n",
       "       'voicemail', 'Meteor', 'Tesco', 'data', 'landline', 'Three',\n",
       "       'Vodafone', 'Vodafone', 'Vodafone', 'Three', 'data', 'Vodafone',\n",
       "       'Vodafone', 'Three', 'Three', 'landline', 'data', 'data', 'data',\n",
       "       'data', 'data', 'data', 'data', 'data', 'world', 'Vodafone', 'data',\n",
       "       'world', 'world'], dtype=object)"
      ]
     },
     "execution_count": 6,
     "metadata": {},
     "output_type": "execute_result"
    }
   ],
   "source": [
    "x=df.iloc[:,0:5].values\n",
    "\n",
    "y=df.iloc[:,5].values\n",
    "print(x)\n",
    "y\n"
   ]
  },
  {
   "cell_type": "code",
   "execution_count": 7,
   "metadata": {},
   "outputs": [
    {
     "name": "stdout",
     "output_type": "stream",
     "text": [
      "<class 'pandas.core.frame.DataFrame'>\n",
      "RangeIndex: 830 entries, 0 to 829\n",
      "Data columns (total 7 columns):\n",
      "index           830 non-null int64\n",
      "date            830 non-null object\n",
      "duration        830 non-null float64\n",
      "item            830 non-null object\n",
      "month           830 non-null object\n",
      "network         830 non-null object\n",
      "network_type    830 non-null object\n",
      "dtypes: float64(1), int64(1), object(5)\n",
      "memory usage: 45.5+ KB\n"
     ]
    }
   ],
   "source": [
    "df.info()"
   ]
  },
  {
   "cell_type": "code",
   "execution_count": 8,
   "metadata": {},
   "outputs": [
    {
     "data": {
      "text/plain": [
       "array([0, 0, 0, 0, 0, 0, 0, 0, 0, 0, 0, 0, 0, 0, 0, 0, 0, 0, 0, 0, 0, 0, 0,\n",
       "       0, 0, 0, 0, 0, 0, 0, 0, 0, 0, 0, 0, 0, 0, 0, 0, 0, 0, 0, 0, 0, 0, 0,\n",
       "       0, 0, 0, 0, 0, 0, 0, 0, 0, 0, 0, 0, 0, 0, 0, 0, 0, 0, 0, 0, 0, 0, 0,\n",
       "       0, 0, 0, 0, 0, 0, 0, 0, 0, 0, 0, 0, 0, 0, 0, 0, 0, 0, 0, 0, 0, 0, 0,\n",
       "       0, 0, 0, 0, 0, 0, 0, 0, 0, 0, 0, 0, 0, 0, 0, 0, 0, 0, 0, 0, 0, 0, 0,\n",
       "       0, 0, 0, 0, 0, 0, 0, 0, 0, 0, 0, 0, 0, 0, 0, 0, 0, 0, 0, 0, 0, 0, 0,\n",
       "       0, 0, 0, 0, 0, 0, 0, 0, 0, 0, 0, 0, 0, 0, 0, 0, 0, 0, 0, 0, 0, 0, 0,\n",
       "       0, 0, 0, 0, 0, 0, 0, 0, 0, 0, 0, 0, 0, 0, 0, 0, 0, 0, 0, 0, 0, 0, 0,\n",
       "       0, 0, 0, 0, 0, 0, 0, 0, 0, 0, 0, 0, 0, 0, 0, 0, 0, 0, 0, 0, 0, 0, 0,\n",
       "       0, 0, 0, 0, 0, 0, 0, 0, 0, 0, 0, 0, 0, 0, 0, 0, 0, 0, 0, 0, 0, 1, 0,\n",
       "       0, 1, 1, 1, 1, 1, 1, 1, 1, 1, 1, 1, 1, 1, 1, 1, 1, 1, 1, 1, 1, 1, 1,\n",
       "       1, 1, 1, 1, 1, 1, 1, 1, 1, 1, 1, 1, 1, 1, 1, 1, 1, 1, 1, 1, 1, 1, 1,\n",
       "       1, 1, 1, 1, 1, 1, 1, 1, 1, 1, 1, 1, 1, 1, 1, 1, 1, 1, 1, 1, 1, 1, 1,\n",
       "       1, 1, 1, 1, 1, 1, 1, 1, 1, 1, 1, 1, 1, 1, 1, 1, 1, 1, 1, 1, 1, 1, 1,\n",
       "       1, 1, 1, 1, 1, 1, 1, 1, 1, 1, 1, 1, 1, 1, 1, 1, 1, 1, 1, 1, 1, 1, 1,\n",
       "       1, 1, 1, 1, 1, 1, 1, 1, 1, 1, 1, 1, 1, 1, 1, 1, 1, 1, 1, 1, 1, 1, 1,\n",
       "       1, 1, 1, 1, 1, 1, 1, 1, 1, 1, 1, 1, 1, 2, 1, 1, 1, 1, 2, 1, 1, 2, 2,\n",
       "       2, 2, 2, 2, 2, 2, 2, 2, 2, 2, 2, 2, 2, 2, 2, 2, 2, 2, 2, 2, 2, 2, 2,\n",
       "       2, 2, 2, 2, 2, 2, 2, 2, 2, 2, 2, 2, 2, 2, 2, 2, 2, 2, 2, 2, 2, 2, 2,\n",
       "       2, 2, 2, 2, 2, 2, 2, 2, 2, 2, 2, 2, 2, 2, 2, 2, 2, 2, 2, 2, 2, 2, 2,\n",
       "       2, 2, 2, 2, 2, 2, 2, 2, 2, 2, 2, 2, 2, 2, 2, 2, 2, 2, 2, 2, 2, 2, 2,\n",
       "       2, 2, 2, 2, 2, 2, 2, 2, 2, 2, 2, 2, 2, 2, 2, 2, 2, 2, 2, 2, 2, 2, 2,\n",
       "       2, 2, 2, 2, 2, 2, 2, 2, 2, 2, 2, 2, 2, 2, 2, 2, 2, 2, 2, 2, 2, 2, 2,\n",
       "       2, 2, 2, 2, 2, 2, 2, 2, 2, 2, 2, 2, 2, 2, 2, 2, 2, 2, 2, 2, 2, 2, 2,\n",
       "       2, 2, 2, 2, 2, 2, 2, 2, 2, 2, 2, 2, 2, 2, 2, 2, 2, 2, 2, 2, 2, 2, 2,\n",
       "       2, 2, 3, 2, 2, 2, 2, 2, 2, 2, 2, 3, 2, 2, 2, 2, 2, 2, 2, 3, 3, 3, 3,\n",
       "       3, 3, 3, 3, 3, 3, 3, 3, 3, 3, 3, 3, 3, 3, 3, 3, 3, 3, 3, 3, 3, 3, 3,\n",
       "       3, 3, 3, 3, 3, 3, 3, 3, 3, 3, 3, 3, 3, 3, 3, 3, 3, 3, 3, 3, 3, 3, 3,\n",
       "       3, 3, 3, 3, 3, 3, 3, 3, 3, 3, 3, 3, 3, 3, 3, 3, 3, 3, 3, 3, 3, 3, 3,\n",
       "       3, 3, 3, 3, 3, 3, 3, 3, 3, 3, 3, 3, 3, 3, 3, 3, 3, 3, 3, 3, 3, 3, 3,\n",
       "       3, 3, 3, 3, 3, 3, 3, 3, 3, 3, 3, 3, 3, 3, 3, 3, 3, 3, 3, 3, 3, 3, 3,\n",
       "       3, 3, 3, 3, 3, 3, 3, 3, 3, 3, 3, 3, 3, 3, 3, 3, 4, 4, 4, 4, 4, 4, 4,\n",
       "       4, 4, 4, 4, 4, 4, 4, 4, 4, 4, 4, 4, 4, 4, 4, 4, 4, 4, 4, 4, 4, 4, 4,\n",
       "       4, 4, 4, 4, 4, 4, 4, 4, 4, 4, 4, 4, 4, 4, 4, 4, 4, 4, 4, 4, 4, 4, 4,\n",
       "       4, 4, 4, 4, 4, 4, 4, 4, 4, 4, 4, 4, 4, 4, 4, 4, 4, 4, 4, 4, 4, 4, 4,\n",
       "       4, 4, 4, 4, 4, 4, 4, 4, 4, 4, 4, 4, 4, 4, 4, 4, 4, 4, 4, 4, 4, 4, 4,\n",
       "       4, 4], dtype=object)"
      ]
     },
     "execution_count": 8,
     "metadata": {},
     "output_type": "execute_result"
    }
   ],
   "source": [
    "from sklearn.preprocessing import LabelEncoder\n",
    "x_lb=LabelEncoder()\n",
    "x[:,1]=x_lb.fit_transform(x[:,1])\n",
    "x[:,1]\n",
    "x[:,3]=x_lb.fit_transform(x[:,3])\n",
    "x[:,3]\n",
    "x[:,4]=x_lb.fit_transform(x[:,4])\n",
    "x[:,4]\n",
    "\n"
   ]
  },
  {
   "cell_type": "code",
   "execution_count": 9,
   "metadata": {},
   "outputs": [
    {
     "data": {
      "text/plain": [
       "array([4, 3, 0, 1, 1, 1, 4, 2, 2, 7, 2, 0, 0, 4, 1, 1, 0, 3, 3, 2, 3, 1, 3,\n",
       "       3, 3, 3, 4, 1, 3, 3, 3, 2, 7, 3, 2, 2, 2, 3, 2, 4, 2, 1, 2, 2, 2, 4,\n",
       "       7, 7, 3, 5, 1, 3, 3, 3, 4, 2, 4, 2, 4, 5, 0, 1, 3, 3, 3, 0, 4, 3, 3,\n",
       "       3, 3, 3, 3, 3, 3, 2, 3, 3, 1, 3, 4, 4, 2, 1, 0, 2, 1, 4, 2, 2, 2, 2,\n",
       "       4, 5, 1, 4, 3, 4, 3, 3, 0, 4, 3, 3, 2, 1, 2, 2, 2, 0, 1, 4, 3, 1, 4,\n",
       "       2, 2, 2, 0, 0, 4, 6, 2, 3, 3, 3, 2, 5, 1, 3, 1, 4, 3, 3, 2, 2, 7, 7,\n",
       "       2, 0, 0, 0, 2, 0, 0, 2, 1, 2, 0, 0, 0, 4, 2, 3, 3, 3, 3, 3, 3, 4, 3,\n",
       "       3, 3, 2, 0, 2, 3, 3, 1, 3, 4, 3, 2, 3, 3, 3, 3, 3, 3, 3, 3, 3, 4, 2,\n",
       "       1, 2, 2, 2, 2, 4, 1, 2, 4, 3, 2, 2, 2, 2, 2, 4, 3, 3, 2, 2, 0, 0, 0,\n",
       "       2, 4, 3, 2, 3, 2, 2, 3, 3, 5, 3, 3, 3, 3, 2, 2, 2, 3, 2, 2, 3, 4, 2,\n",
       "       3, 4, 7, 3, 4, 4, 3, 4, 4, 3, 3, 3, 3, 3, 3, 3, 3, 3, 3, 4, 1, 0, 2,\n",
       "       3, 4, 7, 2, 0, 2, 2, 2, 1, 3, 4, 0, 0, 0, 5, 3, 5, 2, 2, 1, 0, 1, 4,\n",
       "       0, 3, 3, 3, 3, 4, 2, 2, 2, 2, 2, 2, 4, 2, 0, 4, 3, 0, 0, 0, 0, 0, 7,\n",
       "       1, 1, 7, 1, 7, 2, 4, 0, 3, 3, 2, 3, 2, 2, 2, 2, 0, 0, 0, 0, 0, 2, 4,\n",
       "       2, 2, 4, 2, 2, 1, 4, 2, 4, 2, 2, 2, 2, 2, 2, 2, 4, 2, 2, 4, 0, 4, 5,\n",
       "       1, 4, 3, 2, 0, 7, 4, 5, 1, 2, 4, 0, 3, 1, 3, 8, 8, 0, 4, 7, 2, 2, 2,\n",
       "       1, 2, 8, 8, 4, 0, 4, 1, 4, 4, 4, 3, 3, 4, 2, 5, 5, 5, 4, 7, 2, 4, 2,\n",
       "       2, 2, 3, 2, 2, 4, 4, 3, 3, 4, 2, 0, 0, 0, 2, 1, 0, 0, 4, 3, 2, 2, 1,\n",
       "       2, 0, 1, 1, 2, 3, 4, 1, 1, 0, 1, 0, 4, 4, 1, 3, 0, 3, 3, 3, 3, 3, 3,\n",
       "       3, 1, 0, 0, 2, 1, 4, 7, 5, 2, 3, 5, 3, 7, 5, 3, 4, 2, 1, 2, 2, 3, 3,\n",
       "       0, 0, 2, 4, 3, 4, 7, 3, 4, 0, 0, 0, 0, 4, 4, 1, 4, 2, 2, 2, 2, 2, 2,\n",
       "       2, 2, 2, 2, 2, 2, 2, 2, 2, 2, 2, 2, 2, 4, 0, 0, 5, 3, 3, 3, 3, 4, 4,\n",
       "       3, 0, 0, 4, 3, 2, 4, 3, 3, 3, 4, 5, 5, 2, 2, 2, 2, 5, 0, 5, 2, 1, 2,\n",
       "       4, 2, 2, 0, 3, 3, 0, 3, 4, 3, 3, 3, 4, 0, 0, 0, 1, 3, 1, 2, 3, 3, 3,\n",
       "       3, 3, 3, 4, 0, 2, 3, 3, 4, 2, 3, 3, 0, 2, 3, 3, 4, 3, 2, 4, 0, 0, 2,\n",
       "       3, 3, 4, 2, 2, 2, 2, 3, 3, 5, 5, 4, 5, 2, 2, 3, 3, 2, 2, 4, 2, 6, 1,\n",
       "       4, 0, 0, 2, 2, 1, 3, 3, 3, 3, 2, 2, 4, 2, 1, 4, 2, 1, 4, 3, 1, 1, 1,\n",
       "       4, 3, 3, 3, 4, 2, 7, 3, 7, 2, 1, 0, 3, 4, 7, 3, 4, 5, 1, 2, 3, 3, 3,\n",
       "       1, 4, 4, 3, 2, 4, 2, 2, 4, 2, 0, 4, 3, 5, 5, 4, 3, 3, 1, 3, 2, 1, 1,\n",
       "       4, 1, 1, 4, 1, 3, 4, 5, 4, 1, 1, 1, 1, 2, 2, 5, 4, 2, 4, 7, 1, 6, 4,\n",
       "       7, 5, 4, 7, 3, 2, 2, 4, 3, 3, 3, 3, 2, 3, 2, 2, 2, 2, 5, 2, 1, 2, 2,\n",
       "       2, 2, 4, 5, 4, 2, 2, 2, 3, 0, 3, 3, 4, 3, 4, 4, 5, 1, 4, 3, 3, 4, 2,\n",
       "       1, 4, 5, 4, 4, 0, 2, 4, 1, 2, 4, 3, 3, 3, 3, 4, 3, 4, 4, 4, 5, 4, 7,\n",
       "       2, 2, 4, 1, 3, 2, 1, 1, 1, 1, 1, 1, 3, 4, 3, 7, 4, 2, 2, 3, 4, 5, 0,\n",
       "       2, 5, 5, 5, 5, 5, 2, 3, 2, 4, 0, 4, 3, 3, 3, 3, 3, 2, 7, 7, 0, 1, 4,\n",
       "       5, 2, 3, 3, 3, 2, 4, 3, 3, 2, 2, 5, 4, 4, 4, 4, 4, 4, 4, 4, 8, 3, 4,\n",
       "       8, 8], dtype=int64)"
      ]
     },
     "execution_count": 9,
     "metadata": {},
     "output_type": "execute_result"
    }
   ],
   "source": [
    "y_labelencoder=LabelEncoder()\n",
    "y=y_labelencoder.fit_transform(y)\n",
    "y"
   ]
  },
  {
   "cell_type": "code",
   "execution_count": 10,
   "metadata": {},
   "outputs": [
    {
     "data": {
      "text/plain": [
       "array([3, 2, 4, 2, 2, 7, 3, 1, 2, 4, 3, 2, 0, 3, 2, 2, 3, 4, 4, 2, 2, 4, 6,\n",
       "       4, 4, 3, 2, 3, 0, 1, 3, 7, 2, 0, 3, 3, 1, 4, 2, 1, 7, 4, 8, 0, 1, 0,\n",
       "       3, 2, 1, 1, 7, 3, 0, 0, 5, 2, 2, 1, 4, 3, 2, 3, 1, 2, 3, 5, 4, 4, 3,\n",
       "       2, 0, 3, 2, 0, 3, 2, 4, 2, 3, 1, 2, 0, 2, 2, 2, 3, 2, 3, 2, 2, 3, 3,\n",
       "       3, 3, 1, 0, 2, 3, 3, 3, 1, 3, 2, 2, 2, 7, 2, 2, 3, 3, 2, 1, 2, 4, 2,\n",
       "       3, 2, 2, 3, 4, 7, 0, 4, 2, 3, 3, 3, 3, 1, 0, 1, 2, 3, 3, 2, 4, 3, 5,\n",
       "       3, 3, 1, 3, 1, 2, 0, 8, 2, 2, 3, 4, 0, 4, 3, 1, 7, 5, 0, 4, 2, 3, 2,\n",
       "       4, 0, 1, 5, 4], dtype=int64)"
      ]
     },
     "execution_count": 10,
     "metadata": {},
     "output_type": "execute_result"
    }
   ],
   "source": [
    "from sklearn.model_selection import train_test_split\n",
    "x_train,x_test,y_train,y_test=train_test_split(x,y,test_size=.20,random_state=0)\n",
    "x_train\n",
    "y_train\n",
    "x_test\n",
    "y_test"
   ]
  },
  {
   "cell_type": "code",
   "execution_count": 11,
   "metadata": {},
   "outputs": [
    {
     "data": {
      "text/plain": [
       "LinearRegression(copy_X=True, fit_intercept=True, n_jobs=1, normalize=False)"
      ]
     },
     "execution_count": 11,
     "metadata": {},
     "output_type": "execute_result"
    }
   ],
   "source": [
    "from sklearn.linear_model import LinearRegression\n",
    "a=LinearRegression()\n",
    "a.fit(x,y)"
   ]
  },
  {
   "cell_type": "code",
   "execution_count": 12,
   "metadata": {},
   "outputs": [
    {
     "data": {
      "text/plain": [
       "array([ 2.69106996,  2.33039683,  2.5315417 ,  2.4010616 ,  2.50739541,\n",
       "        2.48443412,  2.58095207,  3.20865957,  2.38874574,  2.72280245,\n",
       "        2.64927338,  2.30714683,  2.47889654,  3.02664997,  2.4115624 ,\n",
       "        2.48339219,  2.76378811,  2.2121738 ,  2.94410685,  2.76331237,\n",
       "        2.58747253,  2.79371821,  3.0470341 ,  2.51949658,  2.64340129,\n",
       "        2.65588627,  2.7498109 ,  3.09871153,  2.48018445,  2.37724482,\n",
       "        3.15016216,  2.35946383,  2.79677767,  2.70045923,  2.67917045,\n",
       "        2.8983462 ,  2.5844473 ,  2.78525174,  2.57797529,  2.68860949,\n",
       "        3.02019232,  2.67425533,  2.78463753,  2.64542647,  3.20927111,\n",
       "        2.54449745,  2.96714192,  2.94760191,  2.62186603,  3.02328865,\n",
       "        2.75624569,  2.83020153,  2.63465243,  2.69839204,  2.73804778,\n",
       "        2.46173772,  2.3376872 ,  2.78782489,  2.83256133,  2.68622155,\n",
       "        3.08152974,  2.2858481 ,  2.42899386,  2.88107625,  2.40929217,\n",
       "        3.22609179,  2.83899867,  3.10524792,  2.688121  ,  2.64571244,\n",
       "        2.5446865 ,  3.19026198,  2.89621741,  2.72318822,  2.5257848 ,\n",
       "        2.6571111 ,  2.53970188,  2.36211096,  2.69671265,  2.81559038,\n",
       "        2.37681707,  2.61276464,  2.58116265,  2.58937198,  2.58808406,\n",
       "        3.39609453,  2.98555315,  2.68683309,  3.08370511,  3.08499303,\n",
       "        2.40671635,  2.72305451,  2.4923872 ,  2.56151974,  2.65896016,\n",
       "        2.74830298,  2.54726232,  2.44096505,  2.87638364,  2.51935421,\n",
       "        2.87716083,  2.86543509,  2.21564184,  2.411868  ,  2.98426524,\n",
       "        2.90035346,  2.42488801,  2.57479523,  2.52707272,  2.46741977,\n",
       "        2.55159407,  2.46267774,  2.41362892,  2.97592458,  2.70096787,\n",
       "        2.48981138,  2.69710413,  2.53154799,  2.86592308,  3.20554542,\n",
       "        2.60724121,  2.53505033,  2.98594057,  2.42298856,  2.81119722,\n",
       "        2.56876964,  2.65668802,  3.39989343,  2.4683423 ,  2.55266192,\n",
       "        2.85975604,  2.54845222,  2.68493364,  2.49529759,  2.73092064,\n",
       "        2.45367886,  2.57929565,  2.80165186,  2.94929241,  3.0272615 ,\n",
       "        2.352595  ,  3.39799398,  2.86043171,  2.58131573,  2.4820839 ,\n",
       "        3.17625256,  2.39243252,  2.55409272,  2.41953063,  3.18396615,\n",
       "        2.52049882,  3.32493122,  2.40539866,  3.0095287 ,  2.49655266,\n",
       "        2.64322384,  2.46567673,  3.15771708,  2.45722554,  2.61720765,\n",
       "        2.42170065,  2.49170918,  3.23279255,  3.02674603,  2.80415021,\n",
       "        2.68619661])"
      ]
     },
     "execution_count": 12,
     "metadata": {},
     "output_type": "execute_result"
    }
   ],
   "source": [
    "import numpy as np\n",
    "from sklearn.metrics import mean_squared_error\n",
    "result=a.predict(x_test)\n",
    "result"
   ]
  },
  {
   "cell_type": "code",
   "execution_count": 13,
   "metadata": {},
   "outputs": [
    {
     "name": "stdout",
     "output_type": "stream",
     "text": [
      "1.64864087852\n",
      "[3 2 4 2 2 7 3 1 2 4 3 2 0 3 2 2 3 4 4 2 2 4 6 4 4 3 2 3 0 1 3 7 2 0 3 3 1\n",
      " 4 2 1 7 4 8 0 1 0 3 2 1 1 7 3 0 0 5 2 2 1 4 3 2 3 1 2 3 5 4 4 3 2 0 3 2 0\n",
      " 3 2 4 2 3 1 2 0 2 2 2 3 2 3 2 2 3 3 3 3 1 0 2 3 3 3 1 3 2 2 2 7 2 2 3 3 2\n",
      " 1 2 4 2 3 2 2 3 4 7 0 4 2 3 3 3 3 1 0 1 2 3 3 2 4 3 5 3 3 1 3 1 2 0 8 2 2\n",
      " 3 4 0 4 3 1 7 5 0 4 2 3 2 4 0 1 5 4]\n"
     ]
    }
   ],
   "source": [
    "print(np.sqrt(mean_squared_error(y_test,result)))\n",
    "print(y_test)\n"
   ]
  },
  {
   "cell_type": "code",
   "execution_count": 14,
   "metadata": {},
   "outputs": [
    {
     "data": {
      "image/png": "[encoded data removed]",
      "text/plain": [
       "<matplotlib.figure.Figure at 0x9e7e860>"
      ]
     },
     "metadata": {},
     "output_type": "display_data"
    }
   ],
   "source": [
    "import matplotlib.pyplot as plt\n",
    "plt.plot(x_train,a.predict(x_train),color='blue')\n",
    "plt.title('Phone data')\n",
    "\n",
    "plt.ylabel('network')\n",
    "plt.show()"
   ]
  },
  {
   "cell_type": "code",
   "execution_count": 15,
   "metadata": {},
   "outputs": [
    {
     "data": {
      "text/plain": [
       "LogisticRegression(C=1.0, class_weight=None, dual=False, fit_intercept=True,\n",
       "          intercept_scaling=1, max_iter=100, multi_class='ovr', n_jobs=1,\n",
       "          penalty='l2', random_state=0, solver='liblinear', tol=0.0001,\n",
       "          verbose=0, warm_start=False)"
      ]
     },
     "execution_count": 15,
     "metadata": {},
     "output_type": "execute_result"
    }
   ],
   "source": [
    "from sklearn.linear_model import LogisticRegression\n",
    "b=LogisticRegression(random_state=0)\n",
    "b.fit(x_train,y_train)"
   ]
  },
  {
   "cell_type": "code",
   "execution_count": 16,
   "metadata": {},
   "outputs": [
    {
     "name": "stdout",
     "output_type": "stream",
     "text": [
      "[[ 0  0  6  9  2  0  0  0  0]\n",
      " [ 0  1  8  4  6  0  0  0  0]\n",
      " [ 0  1 23 19  4  0  0  0  0]\n",
      " [ 0  0 10 31  5  0  0  0  0]\n",
      " [ 0  0 10  4  8  0  0  0  0]\n",
      " [ 0  0  4  0  1  0  0  0  0]\n",
      " [ 0  0  0  1  0  0  0  0  0]\n",
      " [ 0  1  5  0  1  0  0  0  0]\n",
      " [ 0  0  0  2  0  0  0  0  0]]\n"
     ]
    }
   ],
   "source": [
    "from sklearn.metrics import accuracy_score\n",
    "from sklearn.metrics import confusion_matrix\n",
    "result=b.predict(x_test)\n",
    "CM=confusion_matrix(y_test,result)\n",
    "print(CM)\n"
   ]
  },
  {
   "cell_type": "code",
   "execution_count": 17,
   "metadata": {},
   "outputs": [
    {
     "name": "stdout",
     "output_type": "stream",
     "text": [
      "0.379518072289\n"
     ]
    }
   ],
   "source": [
    "print(accuracy_score(result,y_test))"
   ]
  },
  {
   "cell_type": "code",
   "execution_count": 18,
   "metadata": {},
   "outputs": [
    {
     "data": {
      "image/png": "[encoded data removed]",
      "text/plain": [
       "<matplotlib.figure.Figure at 0x9e7e7f0>"
      ]
     },
     "metadata": {},
     "output_type": "display_data"
    }
   ],
   "source": [
    "plt.plot(x_train,b.predict(x_train),color='green')\n",
    "plt.ylabel('network')\n",
    "plt.show()\n"
   ]
  },
  {
   "cell_type": "code",
   "execution_count": 19,
   "metadata": {},
   "outputs": [
    {
     "name": "stdout",
     "output_type": "stream",
     "text": [
      "[[   1.  428.  516. ...,    0.    0.   16.]\n",
      " [   1.  751.  456. ...,   16.   64.  256.]\n",
      " [   1.  718.  216. ...,    0.    0.   81.]\n",
      " ..., \n",
      " [   1.  629.  481. ...,    0.    0.   81.]\n",
      " [   1.  559.  214. ...,    0.    0.   16.]\n",
      " [   1.  684.   40. ...,    0.    0.   81.]]\n",
      "[[   1.  647.  591. ...,    0.    0.   81.]\n",
      " [   1.   31.  397. ...,    0.    0.    0.]\n",
      " [   1.  474.  702. ...,    4.    8.   16.]\n",
      " ..., \n",
      " [   1.  766.  598. ...,   64.  128.  256.]\n",
      " [   1.  780.  671. ...,    0.    0.  256.]\n",
      " [   1.  363.  184. ...,    1.    1.    1.]]\n"
     ]
    }
   ],
   "source": [
    "from sklearn.preprocessing import PolynomialFeatures\n",
    "poly_reg = PolynomialFeatures(degree = 4)\n",
    "iv_poly = poly_reg.fit_transform(x_train)\n",
    "print(iv_poly)\n",
    "iv_poly_test = poly_reg.fit_transform(x_test)\n",
    "print(iv_poly_test)\n"
   ]
  },
  {
   "cell_type": "code",
   "execution_count": 20,
   "metadata": {},
   "outputs": [
    {
     "data": {
      "text/plain": [
       "PolynomialFeatures(degree=4, include_bias=True, interaction_only=False)"
      ]
     },
     "execution_count": 20,
     "metadata": {},
     "output_type": "execute_result"
    }
   ],
   "source": [
    "poly_reg.fit(iv_poly, y_train)\n",
    "#predictValues = poly_reg.predict(x_test)   \n",
    "#print(predictValues)"
   ]
  },
  {
   "cell_type": "code",
   "execution_count": 21,
   "metadata": {},
   "outputs": [
    {
     "data": {
      "text/plain": [
       "LinearRegression(copy_X=True, fit_intercept=True, n_jobs=1, normalize=False)"
      ]
     },
     "execution_count": 21,
     "metadata": {},
     "output_type": "execute_result"
    }
   ],
   "source": [
    "from sklearn.linear_model import LinearRegression\n",
    "\n",
    "lin_reg_2 = LinearRegression()\n",
    "lin_reg_2.fit(iv_poly, y_train)\n"
   ]
  },
  {
   "cell_type": "code",
   "execution_count": 22,
   "metadata": {},
   "outputs": [
    {
     "name": "stdout",
     "output_type": "stream",
     "text": [
      "[[   1.  647.  591. ...,    0.    0.   81.]\n",
      " [   1.   31.  397. ...,    0.    0.    0.]\n",
      " [   1.  474.  702. ...,    4.    8.   16.]\n",
      " ..., \n",
      " [   1.  766.  598. ...,   64.  128.  256.]\n",
      " [   1.  780.  671. ...,    0.    0.  256.]\n",
      " [   1.  363.  184. ...,    1.    1.    1.]]\n"
     ]
    }
   ],
   "source": [
    "xtest_poly = poly_reg.fit_transform(x_test)\n",
    "print(xtest_poly)"
   ]
  },
  {
   "cell_type": "code",
   "execution_count": 23,
   "metadata": {},
   "outputs": [
    {
     "name": "stdout",
     "output_type": "stream",
     "text": [
      "[[  6.46999907e+02   5.90999935e+02   4.00002136e+00  -1.11642570e-06\n",
      "    3.00057131e+00]\n",
      " [  3.10004434e+01   3.96996400e+02   1.71399968e+03  -4.39313293e-06\n",
      "   -7.07156165e-06]\n",
      " [  4.73999779e+02   7.01999699e+02   3.44289988e+01   1.00000805e+00\n",
      "    1.99710602e+00]\n",
      " [  7.99939894e+00   3.57998951e+02   1.04999974e+03   2.92591306e-06\n",
      "   -2.06379542e-04]\n",
      " [  3.82000064e+02   3.07999873e+02   2.23000099e+02  -6.91854154e-06\n",
      "    1.00318845e+00]\n",
      " [  2.54999877e+02   4.66999699e+02   7.09999027e+01  -1.13044273e-05\n",
      "    1.00075392e+00]\n",
      " [  6.72000222e+02   7.30999717e+02   7.00004900e+00  -1.86309629e-06\n",
      "    3.00422057e+00]\n",
      " [  6.79000320e+02   1.80000632e+01   9.99981184e-01   1.99999808e+00\n",
      "    3.00388364e+00]\n",
      " [  1.96000290e+02   2.46000338e+02   4.58999990e+02  -1.05956460e-05\n",
      "    4.66852105e-03]\n",
      " [  6.51999888e+02   6.47999243e+02   3.44289814e+01   9.99996322e-01\n",
      "    3.00228484e+00]\n",
      " [  4.66999850e+02   6.46999949e+02   9.99974729e-01   2.00001614e+00\n",
      "    1.99822472e+00]\n",
      " [  5.50000457e+01   4.87999841e+02   5.49999889e+02  -1.53088671e-06\n",
      "    6.07210577e-04]\n",
      " [  3.18999951e+02   6.43000056e+02   1.00010436e+00   1.99999776e+00\n",
      "    9.99476830e-01]\n",
      " [  6.04999956e+02   3.54000049e+02   1.00006202e+00   2.00000591e+00\n",
      "    2.99767278e+00]\n",
      " [  2.82999889e+02   5.46999896e+02   1.06999998e+02   6.51916892e-06\n",
      "    1.00203789e+00]\n",
      " [  2.57999966e+02   4.69999983e+02   8.99993909e+00  -3.22837322e-06\n",
      "    1.00114142e+00]\n",
      " [  6.60999904e+02   6.91999536e+02   9.99987290e-01   1.99998284e+00\n",
      "    3.00569202e+00]\n",
      " [  1.01000118e+02   7.31999916e+02   3.44289992e+01   9.99995100e-01\n",
      "    2.57467050e-03]\n",
      " [  7.27000172e+02   2.53000170e+02   3.44291347e+01   9.99980159e-01\n",
      "    3.00491709e+00]\n",
      " [  6.29999977e+02   4.82000140e+02   2.65000017e+02  -3.33654090e-08\n",
      "    2.99888369e+00]\n",
      " [  4.83999901e+02   7.23000033e+02   9.99988026e-01   2.00000309e+00\n",
      "    1.99753049e+00]\n",
      " [  3.97000002e+02   3.84000110e+02   3.44290360e+01   1.00000061e+00\n",
      "    2.00008100e+00]\n",
      " [  5.95999981e+02   3.32000020e+02   1.00005440e+00   2.00001140e+00\n",
      "    2.99880311e+00]\n",
      " [  4.75999794e+02   7.17999676e+02   3.44289924e+01   9.99998415e-01\n",
      "    1.99705770e+00]\n",
      " [  2.35000005e+02   3.63000125e+02   3.44290088e+01   1.00000365e+00\n",
      "    9.99389497e-01]\n",
      " [  2.53000100e+02   4.41000063e+02   9.99995841e-01   1.99998429e+00\n",
      "    1.00290759e+00]\n",
      " [  3.92000167e+02   3.45000015e+02   4.00000052e+00  -1.81794198e-05\n",
      "    2.00832548e+00]\n",
      " [  7.33000161e+02   2.99999933e+02   8.00003181e+00  -2.15634418e-05\n",
      "    4.00704609e+00]\n",
      " [  3.17999954e+02   6.42000065e+02   1.00009786e+00   1.99999857e+00\n",
      "    9.99311734e-01]\n",
      " [  2.70000523e+01   3.93999797e+02   7.82999930e+02   1.23454867e-06\n",
      "    3.90093774e-05]\n",
      " [  7.50000178e+02   4.29999814e+02   9.99964715e-01   1.99998920e+00\n",
      "    4.00294271e+00]\n",
      " [  3.00999971e+02   6.13000114e+02   2.90000070e+01  -6.58503198e-07\n",
      "    9.99708617e-01]\n",
      " [  5.93000036e+02   3.15000010e+02   1.00001956e+00   1.99998785e+00\n",
      "    2.00256646e+00]\n",
      " [  5.64000035e+02   2.34999989e+02   4.11999983e+02  -6.82368859e-06\n",
      "    2.00282119e+00]\n",
      " [  2.47000118e+02   4.12000079e+02   1.00000558e+00   1.99998932e+00\n",
      "    1.00407572e+00]\n",
      " [  5.52999983e+02   2.01000069e+02   1.00004410e+00   1.99999419e+00\n",
      "    1.99961569e+00]\n",
      " [  1.40000844e+01   3.73000044e+02   9.99959674e-01   1.99999902e+00\n",
      "    9.23740343e-04]\n",
      " [  6.44999844e+02   5.61999645e+02   3.44290080e+01   1.00000247e+00\n",
      "    3.00041969e+00]\n",
      " [  4.94000002e+02   7.27999942e+02   1.00000329e+00   2.00000263e+00\n",
      "    2.00002966e+00]\n",
      " [  4.06000048e+02   4.19999954e+02   4.59999792e+01   4.62168729e-06\n",
      "    2.00383403e+00]\n",
      " [  6.85999945e+02   6.80002946e+01   2.10000612e+01   4.68737988e-06\n",
      "    2.99524736e+00]\n",
      " [  2.31000022e+02   3.21000095e+02   3.44290203e+01   1.00001155e+00\n",
      "    1.00055387e+00]\n",
      " [  3.61000004e+02   1.53000149e+02   9.99974325e-01   2.00001400e+00\n",
      "    9.98658228e-01]\n",
      " [  6.54000031e+02   6.49999859e+02   3.60000420e+01  -1.43110795e-05\n",
      "    2.99961094e+00]\n",
      " [  6.78000299e+02   1.80000613e+01   9.99973669e-01   1.99998806e+00\n",
      "    3.00396183e+00]\n",
      " [  4.59999892e+02   5.87000065e+02   5.00001978e+00   9.30983530e-06\n",
      "    1.99765442e+00]\n",
      " [  6.94000024e+02   1.32000294e+02   1.28000016e+02   3.55858582e-07\n",
      "    3.00047250e+00]\n",
      " [  7.01999989e+02   1.62000216e+02   4.00007588e+00   7.48038460e-06\n",
      "    2.99808447e+00]\n",
      " [  1.12999980e+02   6.99996396e+00   3.99997976e+00   2.69604783e-06\n",
      "   -1.97174357e-03]\n",
      " [  7.43999975e+02   3.91000115e+02   1.65000043e+02  -1.30538849e-05\n",
      "    4.00195815e+00]\n",
      " [  6.34999909e+02   5.02999951e+02   4.10000224e+01   6.83975378e-06\n",
      "    2.99860937e+00]\n",
      " [  7.73000138e+02   6.22999852e+02   5.70000083e+02  -3.01647685e-06\n",
      "    4.00120117e+00]\n",
      " [  4.70999846e+02   6.64999960e+02   9.99977132e-01   2.00001548e+00\n",
      "    1.99802522e+00]\n",
      " [  1.43999971e+02   8.70001273e+01   9.99986015e-01   2.00000432e+00\n",
      "   -9.17649246e-04]\n",
      " [  6.37999904e+02   5.27999950e+02   2.90000182e+01   5.26580130e-06\n",
      "    2.99892661e+00]\n",
      " [  1.72000163e+02   1.76000008e+02   2.17999955e+02  -2.06658166e-05\n",
      "    2.02278979e-03]\n",
      " [  3.11999965e+02   6.37000150e+02   3.00000854e+00  -7.56054485e-07\n",
      "    9.99132827e-01]\n",
      " [  3.57999980e+02   1.51000137e+02   9.99984295e-01   1.99999204e+00\n",
      "    9.99153681e-01]\n",
      " [  6.33999831e+02   5.01999933e+02   3.44290360e+01   1.00000345e+00\n",
      "    2.99696003e+00]\n",
      " [  2.41000090e+02   4.07000037e+02   9.99974202e-01   1.99999073e+00\n",
      "    1.00511457e+00]\n",
      " [  7.35000118e+02   3.17000176e+02   1.06000040e+02  -3.15419338e-06\n",
      "    4.00330116e+00]\n",
      " [  1.03000031e+02   7.33999944e+02   9.99965239e-01   2.00000105e+00\n",
      "   -1.05508198e-03]\n",
      " [  2.71999942e+02   4.97999950e+02   5.99999867e+02   6.62348064e-06\n",
      "    9.97392846e-01]\n",
      " [  6.00999937e+02   3.51000080e+02   1.40000519e+01  -3.82642417e-06\n",
      "    2.99786116e+00]\n",
      " [  7.70000405e+01   5.75000062e+02   9.99971759e-01   2.00000390e+00\n",
      "   -1.69992969e-04]\n",
      " [  8.05000314e+02   4.20002756e+01   7.59999316e+01  -9.49826815e-06\n",
      "    4.00552026e+00]\n",
      " [  3.86000014e+02   3.27000066e+02   3.44289868e+01   9.99984496e-01\n",
      "    2.00103702e+00]\n",
      " [  7.42999928e+02   3.90000039e+02   3.44291338e+01   1.00000384e+00\n",
      "    4.00134167e+00]\n",
      " [  2.39000079e+02   4.06000022e+02   9.99963241e-01   1.99999079e+00\n",
      "    1.00542250e+00]\n",
      " [  6.51000144e+02   6.21000088e+02   5.00999918e+02   6.34406377e-06\n",
      "    2.99753080e+00]\n",
      " [  2.03999836e+02   2.60000126e+02   1.00000796e+00   2.00000842e+00\n",
      "   -5.29148099e-03]\n",
      " [  8.25999855e+02   3.02000233e+02   1.00011860e+00   2.00001686e+00\n",
      "    3.99611366e+00]\n",
      " [  3.95000217e+02   3.47000044e+02   9.99986178e-01   1.99999172e+00\n",
      "    2.00488119e+00]\n",
      " [  6.32000178e+02   4.83998821e+02   1.08999995e+03   2.35654509e-06\n",
      "    3.00032903e+00]\n",
      " [  2.14999812e+02   2.78000155e+02   9.99968327e-01   2.00003080e+00\n",
      "   -7.16374212e-03]\n",
      " [  4.18000018e+02   4.49999957e+02   1.31000002e+02  -4.98510377e-06\n",
      "    2.00124427e+00]\n",
      " [  2.62999897e+02   4.91000237e+02   3.44290277e+01   1.00001109e+00\n",
      "    9.96114906e-01]\n",
      " [  2.21999960e+02   2.83000114e+02   1.45000021e+02   5.00276134e-06\n",
      "   -3.19455207e-03]\n",
      " [  4.57999955e+02   5.84999971e+02   9.99994753e-01   2.00001010e+00\n",
      "    1.99861827e+00]\n",
      " [  6.14999914e+02   3.88999764e+02   6.99999906e+02   4.11039081e-06\n",
      "    2.99924520e+00]\n",
      " [  3.99998547e+01   4.31999941e+02   5.29999407e+01  -4.83831648e-08\n",
      "   -2.03764611e-03]\n",
      " [  2.66000052e+02   4.93000040e+02   9.99987016e-01   1.99998608e+00\n",
      "    1.00064304e+00]\n",
      " [  4.90999977e+02   7.25999981e+02   9.99998166e-01   2.00000304e+00\n",
      "    1.99914861e+00]\n",
      " [  4.81999875e+02   7.22000037e+02   9.99986197e-01   2.00000311e+00\n",
      "    1.99720596e+00]\n",
      " [  4.82999888e+02   7.23000037e+02   9.99987042e-01   2.00000289e+00\n",
      "    1.99733474e+00]\n",
      " [  7.98000212e+02   2.30003124e+01   1.00008869e+00   1.99999211e+00\n",
      "    3.99932799e+00]\n",
      " [  5.20999965e+02   1.01000174e+02   1.00003382e+00   1.99999700e+00\n",
      "    1.99891414e+00]\n",
      " [  2.40000084e+02   4.07000029e+02   9.99967961e-01   1.99999059e+00\n",
      "    1.00526771e+00]\n",
      " [  7.13000140e+02   1.72000170e+02   1.00003917e+00   1.99999398e+00\n",
      "    3.00249955e+00]\n",
      " [  7.12000117e+02   1.71000134e+02   1.00003455e+00   1.99998596e+00\n",
      "    3.00263278e+00]\n",
      " [  7.90000540e+01   5.77000081e+02   9.99973470e-01   2.00000640e+00\n",
      "   -2.85738697e-04]\n",
      " [  4.46999976e+02   5.55999975e+02   9.99985013e-01   2.00000421e+00\n",
      "    1.99972418e+00]\n",
      " [  3.07999964e+02   6.33000102e+02   1.00002837e+00   2.00000488e+00\n",
      "    9.98238819e-01]\n",
      " [  5.01000066e+02   7.45999873e+02   1.00000131e+00   1.99999689e+00\n",
      "    2.00178321e+00]\n",
      " [  4.12999981e+02   4.46000146e+02   2.16999975e+02  -1.11002858e-05\n",
      "    2.00310600e+00]\n",
      " [  4.40000040e+02   5.25000007e+02   9.99996699e-01   1.99999716e+00\n",
      "    2.00046801e+00]\n",
      " [  2.01999832e+02   2.58000117e+02   1.00001856e+00   2.00000033e+00\n",
      "   -4.89740894e-03]\n",
      " [  2.78999949e+02   5.13000027e+02   2.00000365e+01   1.63357065e-06\n",
      "    1.00204164e+00]\n",
      " [  5.05999953e+02   1.19997877e+01   6.39999978e+02  -1.58048812e-06\n",
      "    2.00091361e+00]\n",
      " [  1.56000025e+02   1.18000117e+02   2.89999999e+01   2.91313608e-07\n",
      "   -2.83903439e-03]\n",
      " [  7.61999843e+02   5.93999962e+02   1.17000083e+02   9.98179002e-06\n",
      "    3.99304392e+00]\n",
      " [  5.67000049e+02   2.37000212e+02   1.00005549e+00   2.00001647e+00\n",
      "    1.99926755e+00]\n",
      " [  8.50000060e+01   6.28999993e+02   6.19999657e+01   4.46804126e-06\n",
      "   -1.78895456e-03]\n",
      " [  7.50000267e+01   5.73000046e+02   9.99971229e-01   2.00000156e+00\n",
      "   -8.61126804e-05]\n",
      " [  5.21999973e+02   1.02000173e+02   1.00003394e+00   2.00000355e+00\n",
      "    1.99882895e+00]\n",
      " [  7.57999905e+02   5.64000090e+02   1.07000047e+02   2.11595668e-05\n",
      "    3.99562815e+00]\n",
      " [  3.31000022e+02   7.12000072e+02   9.99982275e-01   1.99999483e+00\n",
      "    1.00193910e+00]\n",
      " [  3.66999972e+02   1.88000029e+02   7.27000001e+02   4.00862407e-06\n",
      "    9.98310142e-01]\n",
      " [  2.13999810e+02   2.77000148e+02   9.99975085e-01   2.00002660e+00\n",
      "   -6.89386105e-03]\n",
      " [  1.00003268e+00   3.36000072e+02   1.30000029e+01   8.93618084e-06\n",
      "   -9.96886038e-04]\n",
      " [  4.53999867e+02   5.82000046e+02   3.99999629e+00   3.39711820e-06\n",
      "    1.99693017e+00]\n",
      " [  5.00011803e+00   3.40000064e+02   4.00004451e+00  -8.79540148e-06\n",
      "   -6.12840880e-04]\n",
      " [  2.84999940e+02   5.49000087e+02   5.00001266e+00  -3.89579578e-06\n",
      "    1.00119197e+00]\n",
      " [  7.17000067e+02   2.15000170e+02   3.44290667e+01   9.99997892e-01\n",
      "    3.00163737e+00]\n",
      " [  1.41999959e+02   8.50001442e+01   9.99994795e-01   1.99999791e+00\n",
      "   -5.01382372e-04]\n",
      " [  3.09999965e+02   6.35000101e+02   1.00004179e+00   2.00000396e+00\n",
      "    9.98374562e-01]\n",
      " [  1.44999978e+02   8.80001191e+01   9.99981580e-01   2.00000779e+00\n",
      "   -1.12561870e-03]\n",
      " [  2.09999794e+02   2.74000118e+02   1.00000469e+00   2.00000700e+00\n",
      "   -5.80393574e-03]\n",
      " [  5.12999764e+02   6.40002302e+01   3.00004408e+00   2.26247168e-05\n",
      "    1.99138474e+00]\n",
      " [  8.19000023e+02   1.73000344e+02   3.44291334e+01   1.00000093e+00\n",
      "    3.99880952e+00]\n",
      " [  3.64000002e+02   1.85000149e+02   9.90000298e+01  -1.05351106e-05\n",
      "    1.00373872e+00]\n",
      " [  1.50000097e+02   9.10000087e+01   1.65999987e+02   1.29517826e-05\n",
      "    3.61191623e-03]\n",
      " [  7.15000069e+02   2.02000203e+02   3.44290546e+01   1.00001411e+00\n",
      "    3.00004768e+00]\n",
      " [  3.33000013e+02   7.13000033e+02   9.99992379e-01   1.99999338e+00\n",
      "    1.00254799e+00]\n",
      " [  4.19000170e+02   4.51000071e+02   1.00001795e+00   1.99997828e+00\n",
      "    2.00348467e+00]\n",
      " [  2.36000099e+02   3.63999994e+02   3.99997947e+00  -1.83799237e-05\n",
      "    1.00256545e+00]\n",
      " [  1.57999985e+02   1.36000069e+02   9.99972827e-01   1.99999337e+00\n",
      "   -1.47517543e-03]\n",
      " [  7.94000148e+02   2.10003287e+01   1.00006676e+00   2.00001087e+00\n",
      "    3.99829492e+00]\n",
      " [  2.60999930e+02   4.88999925e+02   1.69999242e+01  -4.73504949e-06\n",
      "    1.00043138e+00]\n",
      " [  1.41000004e+02   8.40001480e+01   3.99998491e+00   4.97708359e-06\n",
      "    1.80552938e-03]\n",
      " [  6.11999991e+02   3.68000095e+02   8.20000517e+01   1.45489021e-05\n",
      "    2.99846469e+00]\n",
      " [  4.56999881e+02   5.84000062e+02   3.00000740e+00   6.26038508e-06\n",
      "    1.99726721e+00]\n",
      " [  2.42000095e+02   4.08000044e+02   9.99979043e-01   1.99999049e+00\n",
      "    1.00495007e+00]\n",
      " [  1.62000061e+02   1.39999967e+02   1.49999936e+02  -2.55090287e-06\n",
      "    2.59577625e-03]\n",
      " [  6.39999975e+02   5.29999888e+02   1.29000022e+02   7.36243236e-06\n",
      "    2.99857297e+00]\n",
      " [  3.89999559e+01   4.30999998e+02   3.44289670e+01   9.99998064e-01\n",
      "   -1.35270481e-03]\n",
      " [  1.80001099e+01   3.76999987e+02   9.99955340e-01   1.99998887e+00\n",
      "    3.38321006e-03]\n",
      " [  7.83000085e+02   6.74000023e+02   3.04999822e+02  -1.39541996e-05\n",
      "    4.00401399e+00]\n",
      " [  6.21999918e+02   4.52999976e+02   9.99981957e-01   1.99999219e+00\n",
      "    2.99831429e+00]\n",
      " [  6.03999962e+02   3.54000046e+02   1.00005908e+00   2.00000580e+00\n",
      "    2.99788005e+00]\n",
      " [  5.00000205e+01   4.62000129e+02   5.00000703e+00   7.81040064e-06\n",
      "   -9.66558272e-04]\n",
      " [  7.96000180e+02   2.20003211e+01   1.00007806e+00   2.00000128e+00\n",
      "    3.99881524e+00]\n",
      " [  6.02999926e+02   3.53000025e+02   4.10999998e+02   4.05699751e-06\n",
      "    2.99795404e+00]\n",
      " [  1.22000042e+02   5.00001550e+01   1.34999973e+02  -1.73942187e-05\n",
      "    1.40460094e-03]\n",
      " [  3.15999959e+02   6.41000080e+02   1.00008182e+00   2.00000036e+00\n",
      "    9.99018512e-01]\n",
      " [  8.28999893e+02   3.20000205e+02   1.00009613e+00   2.00000758e+00\n",
      "    3.99775316e+00]\n",
      " [  1.00001839e+01   3.59998947e+02   1.18299995e+03  -2.92070179e-06\n",
      "    8.68380425e-05]\n",
      " [  4.40999963e+02   5.25999615e+02   9.55999732e+02  -1.51791525e-06\n",
      "    2.00100366e+00]\n",
      " [  6.79999692e+01   5.68000010e+02   9.99979907e-01   1.99999551e+00\n",
      "   -1.68848958e-04]\n",
      " [  8.20000004e+02   2.04000370e+02   3.44291261e+01   1.00000096e+00\n",
      "    3.99873545e+00]\n",
      " [  2.92999941e+02   6.05000045e+02   9.99961942e-01   2.00000584e+00\n",
      "    9.98166961e-01]\n",
      " [  7.93000170e+02   2.00003008e+01   3.44290650e+01   1.00000444e+00\n",
      "    3.99840085e+00]\n",
      " [  1.92999997e+02   2.43000122e+02   1.77999979e+02  -2.77062825e-06\n",
      "    3.02221954e-03]\n",
      " [  6.86999980e+02   6.90003133e+01   2.27000007e+02   5.29586959e-06\n",
      "    2.99694880e+00]\n",
      " [  4.65999898e+02   6.46000102e+02   1.01000029e+02  -7.34156614e-06\n",
      "    2.00199182e+00]\n",
      " [  5.84999947e+02   2.97000011e+02   4.66000012e+02   2.53049164e-06\n",
      "    1.99929245e+00]\n",
      " [  1.99995525e+00   3.36999985e+02   2.29999598e+01   6.50521512e-06\n",
      "   -7.22482431e-04]\n",
      " [  8.22000019e+02   2.41000373e+02   3.44291055e+01   9.99997005e-01\n",
      "    3.99929174e+00]\n",
      " [  2.70999962e+02   4.97000046e+02   7.99999675e+00  -1.24121986e-06\n",
      "    1.00184255e+00]\n",
      " [  1.74999987e+02   1.79000074e+02   9.99962373e-01   2.00001475e+00\n",
      "   -3.30568890e-03]\n",
      " [  3.34000010e+02   7.14000013e+02   9.99995435e-01   1.99999255e+00\n",
      "    1.00286338e+00]\n",
      " [  4.96000097e+02   7.40999814e+02   3.44290085e+01   9.99997024e-01\n",
      "    2.00406543e+00]\n",
      " [  8.02000089e+02   2.70003037e+01   1.91999857e+02   3.30127661e-06\n",
      "    3.99883893e+00]\n",
      " [  7.65999725e+02   5.97999638e+02   1.00009038e+00   2.00000176e+00\n",
      "    3.99975166e+00]\n",
      " [  7.80000063e+02   6.71000205e+02   3.34999867e+02   5.12224238e-06\n",
      "    4.00015351e+00]\n",
      " [  3.62999771e+02   1.84000179e+02   3.44290755e+01   1.00001131e+00\n",
      "    9.93233372e-01]]\n"
     ]
    }
   ],
   "source": [
    "lin_reg_3=LinearRegression()\n",
    "lin_reg_3.fit(xtest_poly, x_test)\n",
    "predictValues = lin_reg_3.predict(xtest_poly)\n",
    "print(predictValues)\n"
   ]
  },
  {
   "cell_type": "code",
   "execution_count": 24,
   "metadata": {},
   "outputs": [
    {
     "data": {
      "image/png": "[encoded data removed]",
      "text/plain": [
       "<matplotlib.figure.Figure at 0xc8410b8>"
      ]
     },
     "metadata": {},
     "output_type": "display_data"
    }
   ],
   "source": [
    "plt.plot(x, y, color = 'red')\n",
    "\n",
    "plt.title('Polynomial Regression result on x and y')\n",
    "\n",
    "plt.ylabel('network')\n",
    "plt.show()\n"
   ]
  }
 ],
 "metadata": {
  "kernelspec": {
   "display_name": "Python 3",
   "language": "python",
   "name": "python3"
  },
  "language_info": {
   "codemirror_mode": {
    "name": "ipython",
    "version": 3
   },
   "file_extension": ".py",
   "mimetype": "text/x-python",
   "name": "python",
   "nbconvert_exporter": "python",
   "pygments_lexer": "ipython3",
   "version": "3.6.3"
  }
 },
 "nbformat": 4,
 "nbformat_minor": 2
}
