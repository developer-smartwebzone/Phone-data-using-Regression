{
 "cells": [
  {
   "cell_type": "code",
   "execution_count": 87,
   "metadata": {
    "collapsed": true
   },
   "outputs": [],
   "source": [
    "import pandas as pd\n",
    "df=pd.read_csv(\"phone_data.csv\")\n",
    "#df"
   ]
  },
  {
   "cell_type": "code",
   "execution_count": 88,
   "metadata": {},
   "outputs": [
    {
     "data": {
      "text/plain": [
       "830"
      ]
     },
     "execution_count": 88,
     "metadata": {},
     "output_type": "execute_result"
    }
   ],
   "source": [
    "A=df['network'].c()\n",
    "A"
   ]
  },
  {
   "cell_type": "code",
   "execution_count": 89,
   "metadata": {},
   "outputs": [
    {
     "data": {
      "text/plain": [
       "(830, 7)"
      ]
     },
     "execution_count": 89,
     "metadata": {},
     "output_type": "execute_result"
    }
   ],
   "source": [
    "df.shape"
   ]
  },
  {
   "cell_type": "code",
   "execution_count": 90,
   "metadata": {},
   "outputs": [
    {
     "data": {
      "text/plain": [
       "10528.0"
      ]
     },
     "execution_count": 90,
     "metadata": {},
     "output_type": "execute_result"
    }
   ],
   "source": [
    "B=df['duration'].max()\n",
    "B"
   ]
  },
  {
   "cell_type": "code",
   "execution_count": 91,
   "metadata": {},
   "outputs": [
    {
     "data": {
      "text/plain": [
       "92321.0"
      ]
     },
     "execution_count": 91,
     "metadata": {},
     "output_type": "execute_result"
    }
   ],
   "source": [
    "C=df['duration'][df['item'] == 'call'].sum()  \n",
    "C"
   ]
  },
  {
   "cell_type": "code",
   "execution_count": 92,
   "metadata": {},
   "outputs": [
    {
     "data": {
      "text/plain": [
       "2014-11    230\n",
       "2015-01    205\n",
       "2014-12    157\n",
       "2015-02    137\n",
       "2015-03    101\n",
       "Name: month, dtype: int64"
      ]
     },
     "execution_count": 92,
     "metadata": {},
     "output_type": "execute_result"
    }
   ],
   "source": [
    "D=df['month'].value_counts()          \n",
    "D"
   ]
  },
  {
   "cell_type": "code",
   "execution_count": 93,
   "metadata": {},
   "outputs": [
    {
     "data": {
      "text/html": [
       "<div>\n",
       "<style>\n",
       "    .dataframe thead tr:only-child th {\n",
       "        text-align: right;\n",
       "    }\n",
       "\n",
       "    .dataframe thead th {\n",
       "        text-align: left;\n",
       "    }\n",
       "\n",
       "    .dataframe tbody tr th {\n",
       "        vertical-align: top;\n",
       "    }\n",
       "</style>\n",
       "<table border=\"1\" class=\"dataframe\">\n",
       "  <thead>\n",
       "    <tr style=\"text-align: right;\">\n",
       "      <th></th>\n",
       "      <th>index</th>\n",
       "      <th>date</th>\n",
       "      <th>duration</th>\n",
       "      <th>item</th>\n",
       "      <th>network</th>\n",
       "      <th>network_type</th>\n",
       "    </tr>\n",
       "    <tr>\n",
       "      <th>month</th>\n",
       "      <th></th>\n",
       "      <th></th>\n",
       "      <th></th>\n",
       "      <th></th>\n",
       "      <th></th>\n",
       "      <th></th>\n",
       "    </tr>\n",
       "  </thead>\n",
       "  <tbody>\n",
       "    <tr>\n",
       "      <th>2014-11</th>\n",
       "      <td>0</td>\n",
       "      <td>15-10-2014 06:58</td>\n",
       "      <td>34.429</td>\n",
       "      <td>data</td>\n",
       "      <td>data</td>\n",
       "      <td>data</td>\n",
       "    </tr>\n",
       "    <tr>\n",
       "      <th>2014-12</th>\n",
       "      <td>228</td>\n",
       "      <td>13-11-2014 06:58</td>\n",
       "      <td>34.429</td>\n",
       "      <td>data</td>\n",
       "      <td>data</td>\n",
       "      <td>data</td>\n",
       "    </tr>\n",
       "    <tr>\n",
       "      <th>2015-01</th>\n",
       "      <td>381</td>\n",
       "      <td>13-12-2014 06:58</td>\n",
       "      <td>34.429</td>\n",
       "      <td>data</td>\n",
       "      <td>data</td>\n",
       "      <td>data</td>\n",
       "    </tr>\n",
       "    <tr>\n",
       "      <th>2015-02</th>\n",
       "      <td>577</td>\n",
       "      <td>13-01-2015 06:58</td>\n",
       "      <td>34.429</td>\n",
       "      <td>data</td>\n",
       "      <td>data</td>\n",
       "      <td>data</td>\n",
       "    </tr>\n",
       "    <tr>\n",
       "      <th>2015-03</th>\n",
       "      <td>729</td>\n",
       "      <td>12-02-2015 20:15</td>\n",
       "      <td>69.000</td>\n",
       "      <td>call</td>\n",
       "      <td>landline</td>\n",
       "      <td>landline</td>\n",
       "    </tr>\n",
       "  </tbody>\n",
       "</table>\n",
       "</div>"
      ],
      "text/plain": [
       "         index              date  duration  item   network network_type\n",
       "month                                                                  \n",
       "2014-11      0  15-10-2014 06:58    34.429  data      data         data\n",
       "2014-12    228  13-11-2014 06:58    34.429  data      data         data\n",
       "2015-01    381  13-12-2014 06:58    34.429  data      data         data\n",
       "2015-02    577  13-01-2015 06:58    34.429  data      data         data\n",
       "2015-03    729  12-02-2015 20:15    69.000  call  landline     landline"
      ]
     },
     "execution_count": 93,
     "metadata": {},
     "output_type": "execute_result"
    }
   ],
   "source": [
    "E=df.groupby('month').first()         \n",
    "E"
   ]
  },
  {
   "cell_type": "code",
   "execution_count": 94,
   "metadata": {},
   "outputs": [
    {
     "data": {
      "text/plain": [
       "month\n",
       "2014-11    26639.441\n",
       "2014-12    14641.870\n",
       "2015-01    18223.299\n",
       "2015-02    15522.299\n",
       "2015-03    22750.441\n",
       "Name: duration, dtype: float64"
      ]
     },
     "execution_count": 94,
     "metadata": {},
     "output_type": "execute_result"
    }
   ],
   "source": [
    "F=df.groupby('month')['duration'].sum()  \n",
    "F\n"
   ]
  },
  {
   "cell_type": "code",
   "execution_count": 95,
   "metadata": {},
   "outputs": [
    {
     "data": {
      "text/plain": [
       "month\n",
       "2014-11    230\n",
       "2014-12    157\n",
       "2015-01    205\n",
       "2015-02    137\n",
       "2015-03    101\n",
       "Name: date, dtype: int64"
      ]
     },
     "execution_count": 95,
     "metadata": {},
     "output_type": "execute_result"
    }
   ],
   "source": [
    "G=df.groupby('month')['date'].count()\n",
    "G"
   ]
  },
  {
   "cell_type": "code",
   "execution_count": 96,
   "metadata": {},
   "outputs": [
    {
     "data": {
      "text/plain": [
       "network\n",
       "Meteor        7200.0\n",
       "Tesco        13828.0\n",
       "Three        36464.0\n",
       "Vodafone     14621.0\n",
       "landline     18433.0\n",
       "voicemail     1775.0\n",
       "Name: duration, dtype: float64"
      ]
     },
     "execution_count": 96,
     "metadata": {},
     "output_type": "execute_result"
    }
   ],
   "source": [
    "H=df[df['item'] == 'call'].groupby('network')['duration'].sum()\n",
    "H"
   ]
  },
  {
   "cell_type": "code",
   "execution_count": 97,
   "metadata": {},
   "outputs": [
    {
     "data": {
      "text/plain": [
       "month    item\n",
       "2014-11  call    107\n",
       "         data     29\n",
       "         sms      94\n",
       "2014-12  call     79\n",
       "         data     30\n",
       "         sms      48\n",
       "2015-01  call     88\n",
       "         data     31\n",
       "         sms      86\n",
       "2015-02  call     67\n",
       "         data     31\n",
       "         sms      39\n",
       "2015-03  call     47\n",
       "         data     29\n",
       "         sms      25\n",
       "Name: date, dtype: int64"
      ]
     },
     "execution_count": 97,
     "metadata": {},
     "output_type": "execute_result"
    }
   ],
   "source": [
    "I=df.groupby(['month', 'item'])['date'].count()\n",
    "I"
   ]
  },
  {
   "cell_type": "code",
   "execution_count": 98,
   "metadata": {},
   "outputs": [
    {
     "data": {
      "text/plain": [
       "array(['data', 'Vodafone', 'Meteor', 'Tesco', 'Tesco', 'Tesco', 'data',\n",
       "       'Three', 'Three', 'voicemail', 'Three', 'Meteor', 'Meteor', 'data',\n",
       "       'Tesco', 'Tesco', 'Meteor', 'Vodafone', 'Vodafone', 'Three',\n",
       "       'Vodafone', 'Tesco', 'Vodafone', 'Vodafone', 'Vodafone', 'Vodafone',\n",
       "       'data', 'Tesco', 'Vodafone', 'Vodafone', 'Vodafone', 'Three',\n",
       "       'voicemail', 'Vodafone', 'Three', 'Three', 'Three', 'Vodafone',\n",
       "       'Three', 'data', 'Three', 'Tesco', 'Three', 'Three', 'Three',\n",
       "       'data', 'voicemail', 'voicemail', 'Vodafone', 'landline', 'Tesco',\n",
       "       'Vodafone', 'Vodafone', 'Vodafone', 'data', 'Three', 'data',\n",
       "       'Three', 'data', 'landline', 'Meteor', 'Tesco', 'Vodafone',\n",
       "       'Vodafone', 'Vodafone', 'Meteor', 'data', 'Vodafone', 'Vodafone',\n",
       "       'Vodafone', 'Vodafone', 'Vodafone', 'Vodafone', 'Vodafone',\n",
       "       'Vodafone', 'Three', 'Vodafone', 'Vodafone', 'Tesco', 'Vodafone',\n",
       "       'data', 'data', 'Three', 'Tesco', 'Meteor', 'Three', 'Tesco',\n",
       "       'data', 'Three', 'Three', 'Three', 'Three', 'data', 'landline',\n",
       "       'Tesco', 'data', 'Vodafone', 'data', 'Vodafone', 'Vodafone',\n",
       "       'Meteor', 'data', 'Vodafone', 'Vodafone', 'Three', 'Tesco', 'Three',\n",
       "       'Three', 'Three', 'Meteor', 'Tesco', 'data', 'Vodafone', 'Tesco',\n",
       "       'data', 'Three', 'Three', 'Three', 'Meteor', 'Meteor', 'data',\n",
       "       'special', 'Three', 'Vodafone', 'Vodafone', 'Vodafone', 'Three',\n",
       "       'landline', 'Tesco', 'Vodafone', 'Tesco', 'data', 'Vodafone',\n",
       "       'Vodafone', 'Three', 'Three', 'voicemail', 'voicemail', 'Three',\n",
       "       'Meteor', 'Meteor', 'Meteor', 'Three', 'Meteor', 'Meteor', 'Three',\n",
       "       'Tesco', 'Three', 'Meteor', 'Meteor', 'Meteor', 'data', 'Three',\n",
       "       'Vodafone', 'Vodafone', 'Vodafone', 'Vodafone', 'Vodafone',\n",
       "       'Vodafone', 'data', 'Vodafone', 'Vodafone', 'Vodafone', 'Three',\n",
       "       'Meteor', 'Three', 'Vodafone', 'Vodafone', 'Tesco', 'Vodafone',\n",
       "       'data', 'Vodafone', 'Three', 'Vodafone', 'Vodafone', 'Vodafone',\n",
       "       'Vodafone', 'Vodafone', 'Vodafone', 'Vodafone', 'Vodafone',\n",
       "       'Vodafone', 'data', 'Three', 'Tesco', 'Three', 'Three', 'Three',\n",
       "       'Three', 'data', 'Tesco', 'Three', 'data', 'Vodafone', 'Three',\n",
       "       'Three', 'Three', 'Three', 'Three', 'data', 'Vodafone', 'Vodafone',\n",
       "       'Three', 'Three', 'Meteor', 'Meteor', 'Meteor', 'Three', 'data',\n",
       "       'Vodafone', 'Three', 'Vodafone', 'Three', 'Three', 'Vodafone',\n",
       "       'Vodafone', 'landline', 'Vodafone', 'Vodafone', 'Vodafone',\n",
       "       'Vodafone', 'Three', 'Three', 'Three', 'Vodafone', 'Three', 'Three',\n",
       "       'Vodafone', 'data', 'Three', 'Vodafone', 'data', 'voicemail',\n",
       "       'Vodafone', 'data', 'data', 'Vodafone', 'data', 'data', 'Vodafone',\n",
       "       'Vodafone', 'Vodafone', 'Vodafone', 'Vodafone', 'Vodafone',\n",
       "       'Vodafone', 'Vodafone', 'Vodafone', 'Vodafone', 'data', 'Tesco',\n",
       "       'Meteor', 'Three', 'Vodafone', 'data', 'voicemail', 'Three',\n",
       "       'Meteor', 'Three', 'Three', 'Three', 'Tesco', 'Vodafone', 'data',\n",
       "       'Meteor', 'Meteor', 'Meteor', 'landline', 'Vodafone', 'landline',\n",
       "       'Three', 'Three', 'Tesco', 'Meteor', 'Tesco', 'data', 'Meteor',\n",
       "       'Vodafone', 'Vodafone', 'Vodafone', 'Vodafone', 'data', 'Three',\n",
       "       'Three', 'Three', 'Three', 'Three', 'Three', 'data', 'Three',\n",
       "       'Meteor', 'data', 'Vodafone', 'Meteor', 'Meteor', 'Meteor',\n",
       "       'Meteor', 'Meteor', 'voicemail', 'Tesco', 'Tesco', 'voicemail',\n",
       "       'Tesco', 'voicemail', 'Three', 'data', 'Meteor', 'Vodafone',\n",
       "       'Vodafone', 'Three', 'Vodafone', 'Three', 'Three', 'Three', 'Three',\n",
       "       'Meteor', 'Meteor', 'Meteor', 'Meteor', 'Meteor', 'Three', 'data',\n",
       "       'Three', 'Three', 'data', 'Three', 'Three', 'Tesco', 'data',\n",
       "       'Three', 'data', 'Three', 'Three', 'Three', 'Three', 'Three',\n",
       "       'Three', 'Three', 'data', 'Three', 'Three', 'data', 'Meteor',\n",
       "       'data', 'landline', 'Tesco', 'data', 'Vodafone', 'Three', 'Meteor',\n",
       "       'voicemail', 'data', 'landline', 'Tesco', 'Three', 'data', 'Meteor',\n",
       "       'Vodafone', 'Tesco', 'Vodafone', 'world', 'world', 'Meteor', 'data',\n",
       "       'voicemail', 'Three', 'Three', 'Three', 'Tesco', 'Three', 'world',\n",
       "       'world', 'data', 'Meteor', 'data', 'Tesco', 'data', 'data', 'data',\n",
       "       'Vodafone', 'Vodafone', 'data', 'Three', 'landline', 'landline',\n",
       "       'landline', 'data', 'voicemail', 'Three', 'data', 'Three', 'Three',\n",
       "       'Three', 'Vodafone', 'Three', 'Three', 'data', 'data', 'Vodafone',\n",
       "       'Vodafone', 'data', 'Three', 'Meteor', 'Meteor', 'Meteor', 'Three',\n",
       "       'Tesco', 'Meteor', 'Meteor', 'data', 'Vodafone', 'Three', 'Three',\n",
       "       'Tesco', 'Three', 'Meteor', 'Tesco', 'Tesco', 'Three', 'Vodafone',\n",
       "       'data', 'Tesco', 'Tesco', 'Meteor', 'Tesco', 'Meteor', 'data',\n",
       "       'data', 'Tesco', 'Vodafone', 'Meteor', 'Vodafone', 'Vodafone',\n",
       "       'Vodafone', 'Vodafone', 'Vodafone', 'Vodafone', 'Vodafone', 'Tesco',\n",
       "       'Meteor', 'Meteor', 'Three', 'Tesco', 'data', 'voicemail',\n",
       "       'landline', 'Three', 'Vodafone', 'landline', 'Vodafone',\n",
       "       'voicemail', 'landline', 'Vodafone', 'data', 'Three', 'Tesco',\n",
       "       'Three', 'Three', 'Vodafone', 'Vodafone', 'Meteor', 'Meteor',\n",
       "       'Three', 'data', 'Vodafone', 'data', 'voicemail', 'Vodafone',\n",
       "       'data', 'Meteor', 'Meteor', 'Meteor', 'Meteor', 'data', 'data',\n",
       "       'Tesco', 'data', 'Three', 'Three', 'Three', 'Three', 'Three',\n",
       "       'Three', 'Three', 'Three', 'Three', 'Three', 'Three', 'Three',\n",
       "       'Three', 'Three', 'Three', 'Three', 'Three', 'Three', 'Three',\n",
       "       'data', 'Meteor', 'Meteor', 'landline', 'Vodafone', 'Vodafone',\n",
       "       'Vodafone', 'Vodafone', 'data', 'data', 'Vodafone', 'Meteor',\n",
       "       'Meteor', 'data', 'Vodafone', 'Three', 'data', 'Vodafone',\n",
       "       'Vodafone', 'Vodafone', 'data', 'landline', 'landline', 'Three',\n",
       "       'Three', 'Three', 'Three', 'landline', 'Meteor', 'landline',\n",
       "       'Three', 'Tesco', 'Three', 'data', 'Three', 'Three', 'Meteor',\n",
       "       'Vodafone', 'Vodafone', 'Meteor', 'Vodafone', 'data', 'Vodafone',\n",
       "       'Vodafone', 'Vodafone', 'data', 'Meteor', 'Meteor', 'Meteor',\n",
       "       'Tesco', 'Vodafone', 'Tesco', 'Three', 'Vodafone', 'Vodafone',\n",
       "       'Vodafone', 'Vodafone', 'Vodafone', 'Vodafone', 'data', 'Meteor',\n",
       "       'Three', 'Vodafone', 'Vodafone', 'data', 'Three', 'Vodafone',\n",
       "       'Vodafone', 'Meteor', 'Three', 'Vodafone', 'Vodafone', 'data',\n",
       "       'Vodafone', 'Three', 'data', 'Meteor', 'Meteor', 'Three',\n",
       "       'Vodafone', 'Vodafone', 'data', 'Three', 'Three', 'Three', 'Three',\n",
       "       'Vodafone', 'Vodafone', 'landline', 'landline', 'data', 'landline',\n",
       "       'Three', 'Three', 'Vodafone', 'Vodafone', 'Three', 'Three', 'data',\n",
       "       'Three', 'special', 'Tesco', 'data', 'Meteor', 'Meteor', 'Three',\n",
       "       'Three', 'Tesco', 'Vodafone', 'Vodafone', 'Vodafone', 'Vodafone',\n",
       "       'Three', 'Three', 'data', 'Three', 'Tesco', 'data', 'Three',\n",
       "       'Tesco', 'data', 'Vodafone', 'Tesco', 'Tesco', 'Tesco', 'data',\n",
       "       'Vodafone', 'Vodafone', 'Vodafone', 'data', 'Three', 'voicemail',\n",
       "       'Vodafone', 'voicemail', 'Three', 'Tesco', 'Meteor', 'Vodafone',\n",
       "       'data', 'voicemail', 'Vodafone', 'data', 'landline', 'Tesco',\n",
       "       'Three', 'Vodafone', 'Vodafone', 'Vodafone', 'Tesco', 'data',\n",
       "       'data', 'Vodafone', 'Three', 'data', 'Three', 'Three', 'data',\n",
       "       'Three', 'Meteor', 'data', 'Vodafone', 'landline', 'landline',\n",
       "       'data', 'Vodafone', 'Vodafone', 'Tesco', 'Vodafone', 'Three',\n",
       "       'Tesco', 'Tesco', 'data', 'Tesco', 'Tesco', 'data', 'Tesco',\n",
       "       'Vodafone', 'data', 'landline', 'data', 'Tesco', 'Tesco', 'Tesco',\n",
       "       'Tesco', 'Three', 'Three', 'landline', 'data', 'Three', 'data',\n",
       "       'voicemail', 'Tesco', 'special', 'data', 'voicemail', 'landline',\n",
       "       'data', 'voicemail', 'Vodafone', 'Three', 'Three', 'data',\n",
       "       'Vodafone', 'Vodafone', 'Vodafone', 'Vodafone', 'Three', 'Vodafone',\n",
       "       'Three', 'Three', 'Three', 'Three', 'landline', 'Three', 'Tesco',\n",
       "       'Three', 'Three', 'Three', 'Three', 'data', 'landline', 'data',\n",
       "       'Three', 'Three', 'Three', 'Vodafone', 'Meteor', 'Vodafone',\n",
       "       'Vodafone', 'data', 'Vodafone', 'data', 'data', 'landline', 'Tesco',\n",
       "       'data', 'Vodafone', 'Vodafone', 'data', 'Three', 'Tesco', 'data',\n",
       "       'landline', 'data', 'data', 'Meteor', 'Three', 'data', 'Tesco',\n",
       "       'Three', 'data', 'Vodafone', 'Vodafone', 'Vodafone', 'Vodafone',\n",
       "       'data', 'Vodafone', 'data', 'data', 'data', 'landline', 'data',\n",
       "       'voicemail', 'Three', 'Three', 'data', 'Tesco', 'Vodafone', 'Three',\n",
       "       'Tesco', 'Tesco', 'Tesco', 'Tesco', 'Tesco', 'Tesco', 'Vodafone',\n",
       "       'data', 'Vodafone', 'voicemail', 'data', 'Three', 'Three',\n",
       "       'Vodafone', 'data', 'landline', 'Meteor', 'Three', 'landline',\n",
       "       'landline', 'landline', 'landline', 'landline', 'Three', 'Vodafone',\n",
       "       'Three', 'data', 'Meteor', 'data', 'Vodafone', 'Vodafone',\n",
       "       'Vodafone', 'Vodafone', 'Vodafone', 'Three', 'voicemail',\n",
       "       'voicemail', 'Meteor', 'Tesco', 'data', 'landline', 'Three',\n",
       "       'Vodafone', 'Vodafone', 'Vodafone', 'Three', 'data', 'Vodafone',\n",
       "       'Vodafone', 'Three', 'Three', 'landline', 'data', 'data', 'data',\n",
       "       'data', 'data', 'data', 'data', 'data', 'world', 'Vodafone', 'data',\n",
       "       'world', 'world'], dtype=object)"
      ]
     },
     "execution_count": 98,
     "metadata": {},
     "output_type": "execute_result"
    }
   ],
   "source": [
    "x=df.iloc[:,:]\n",
    "x=x.drop('network',axis=1)\n",
    "x=x.values\n",
    "y=df.loc[:,'network'].values\n",
    "x\n",
    "y"
   ]
  },
  {
   "cell_type": "code",
   "execution_count": 99,
   "metadata": {},
   "outputs": [
    {
     "name": "stdout",
     "output_type": "stream",
     "text": [
      "<class 'pandas.core.frame.DataFrame'>\n",
      "RangeIndex: 830 entries, 0 to 829\n",
      "Data columns (total 7 columns):\n",
      "index           830 non-null int64\n",
      "date            830 non-null object\n",
      "duration        830 non-null float64\n",
      "item            830 non-null object\n",
      "month           830 non-null object\n",
      "network         830 non-null object\n",
      "network_type    830 non-null object\n",
      "dtypes: float64(1), int64(1), object(5)\n",
      "memory usage: 45.5+ KB\n"
     ]
    }
   ],
   "source": [
    "df.info()"
   ]
  },
  {
   "cell_type": "code",
   "execution_count": 100,
   "metadata": {},
   "outputs": [
    {
     "data": {
      "text/plain": [
       "array([0, 2, 2, 2, 2, 2, 0, 2, 2, 4, 2, 2, 2, 0, 2, 2, 2, 2, 2, 2, 2, 2, 2,\n",
       "       2, 2, 2, 0, 2, 2, 2, 2, 2, 4, 2, 2, 2, 2, 2, 2, 0, 2, 2, 2, 2, 2, 0,\n",
       "       4, 4, 2, 1, 2, 2, 2, 2, 0, 2, 0, 2, 0, 1, 2, 2, 2, 2, 2, 2, 0, 2, 2,\n",
       "       2, 2, 2, 2, 2, 2, 2, 2, 2, 2, 2, 0, 0, 2, 2, 2, 2, 2, 0, 2, 2, 2, 2,\n",
       "       0, 1, 2, 0, 2, 0, 2, 2, 2, 0, 2, 2, 2, 2, 2, 2, 2, 2, 2, 0, 2, 2, 0,\n",
       "       2, 2, 2, 2, 2, 0, 3, 2, 2, 2, 2, 2, 1, 2, 2, 2, 0, 2, 2, 2, 2, 4, 4,\n",
       "       2, 2, 2, 2, 2, 2, 2, 2, 2, 2, 2, 2, 2, 0, 2, 2, 2, 2, 2, 2, 2, 0, 2,\n",
       "       2, 2, 2, 2, 2, 2, 2, 2, 2, 0, 2, 2, 2, 2, 2, 2, 2, 2, 2, 2, 2, 0, 2,\n",
       "       2, 2, 2, 2, 2, 0, 2, 2, 0, 2, 2, 2, 2, 2, 2, 0, 2, 2, 2, 2, 2, 2, 2,\n",
       "       2, 0, 2, 2, 2, 2, 2, 2, 2, 1, 2, 2, 2, 2, 2, 2, 2, 2, 2, 2, 2, 0, 2,\n",
       "       2, 0, 4, 2, 0, 0, 2, 0, 0, 2, 2, 2, 2, 2, 2, 2, 2, 2, 2, 0, 2, 2, 2,\n",
       "       2, 0, 4, 2, 2, 2, 2, 2, 2, 2, 0, 2, 2, 2, 1, 2, 1, 2, 2, 2, 2, 2, 0,\n",
       "       2, 2, 2, 2, 2, 0, 2, 2, 2, 2, 2, 2, 0, 2, 2, 0, 2, 2, 2, 2, 2, 2, 4,\n",
       "       2, 2, 4, 2, 4, 2, 0, 2, 2, 2, 2, 2, 2, 2, 2, 2, 2, 2, 2, 2, 2, 2, 0,\n",
       "       2, 2, 0, 2, 2, 2, 0, 2, 0, 2, 2, 2, 2, 2, 2, 2, 0, 2, 2, 0, 2, 0, 1,\n",
       "       2, 0, 2, 2, 2, 4, 0, 1, 2, 2, 0, 2, 2, 2, 2, 5, 5, 2, 0, 4, 2, 2, 2,\n",
       "       2, 2, 5, 5, 0, 2, 0, 2, 0, 0, 0, 2, 2, 0, 2, 1, 1, 1, 0, 4, 2, 0, 2,\n",
       "       2, 2, 2, 2, 2, 0, 0, 2, 2, 0, 2, 2, 2, 2, 2, 2, 2, 2, 0, 2, 2, 2, 2,\n",
       "       2, 2, 2, 2, 2, 2, 0, 2, 2, 2, 2, 2, 0, 0, 2, 2, 2, 2, 2, 2, 2, 2, 2,\n",
       "       2, 2, 2, 2, 2, 2, 0, 4, 1, 2, 2, 1, 2, 4, 1, 2, 0, 2, 2, 2, 2, 2, 2,\n",
       "       2, 2, 2, 0, 2, 0, 4, 2, 0, 2, 2, 2, 2, 0, 0, 2, 0, 2, 2, 2, 2, 2, 2,\n",
       "       2, 2, 2, 2, 2, 2, 2, 2, 2, 2, 2, 2, 2, 0, 2, 2, 1, 2, 2, 2, 2, 0, 0,\n",
       "       2, 2, 2, 0, 2, 2, 0, 2, 2, 2, 0, 1, 1, 2, 2, 2, 2, 1, 2, 1, 2, 2, 2,\n",
       "       0, 2, 2, 2, 2, 2, 2, 2, 0, 2, 2, 2, 0, 2, 2, 2, 2, 2, 2, 2, 2, 2, 2,\n",
       "       2, 2, 2, 0, 2, 2, 2, 2, 0, 2, 2, 2, 2, 2, 2, 2, 0, 2, 2, 0, 2, 2, 2,\n",
       "       2, 2, 0, 2, 2, 2, 2, 2, 2, 1, 1, 0, 1, 2, 2, 2, 2, 2, 2, 0, 2, 3, 2,\n",
       "       0, 2, 2, 2, 2, 2, 2, 2, 2, 2, 2, 2, 0, 2, 2, 0, 2, 2, 0, 2, 2, 2, 2,\n",
       "       0, 2, 2, 2, 0, 2, 4, 2, 4, 2, 2, 2, 2, 0, 4, 2, 0, 1, 2, 2, 2, 2, 2,\n",
       "       2, 0, 0, 2, 2, 0, 2, 2, 0, 2, 2, 0, 2, 1, 1, 0, 2, 2, 2, 2, 2, 2, 2,\n",
       "       0, 2, 2, 0, 2, 2, 0, 1, 0, 2, 2, 2, 2, 2, 2, 1, 0, 2, 0, 4, 2, 3, 0,\n",
       "       4, 1, 0, 4, 2, 2, 2, 0, 2, 2, 2, 2, 2, 2, 2, 2, 2, 2, 1, 2, 2, 2, 2,\n",
       "       2, 2, 0, 1, 0, 2, 2, 2, 2, 2, 2, 2, 0, 2, 0, 0, 1, 2, 0, 2, 2, 0, 2,\n",
       "       2, 0, 1, 0, 0, 2, 2, 0, 2, 2, 0, 2, 2, 2, 2, 0, 2, 0, 0, 0, 1, 0, 4,\n",
       "       2, 2, 0, 2, 2, 2, 2, 2, 2, 2, 2, 2, 2, 0, 2, 4, 0, 2, 2, 2, 0, 1, 2,\n",
       "       2, 1, 1, 1, 1, 1, 2, 2, 2, 0, 2, 0, 2, 2, 2, 2, 2, 2, 4, 4, 2, 2, 0,\n",
       "       1, 2, 2, 2, 2, 2, 0, 2, 2, 2, 2, 1, 0, 0, 0, 0, 0, 0, 0, 0, 5, 2, 0,\n",
       "       5, 5], dtype=object)"
      ]
     },
     "execution_count": 100,
     "metadata": {},
     "output_type": "execute_result"
    }
   ],
   "source": [
    "from sklearn.preprocessing import LabelEncoder\n",
    "x_lb=LabelEncoder()\n",
    "x[:,1]=x_lb.fit_transform(x[:,1])\n",
    "x[:,1]\n",
    "x[:,3]=x_lb.fit_transform(x[:,3])\n",
    "x[:,3]\n",
    "x[:,4]=x_lb.fit_transform(x[:,4])\n",
    "x[:,4]\n",
    "x[:,5]=x_lb.fit_transform(x[:,5])\n",
    "x[:,5]\n",
    "\n",
    "\n",
    "\n"
   ]
  },
  {
   "cell_type": "code",
   "execution_count": 101,
   "metadata": {},
   "outputs": [
    {
     "data": {
      "text/plain": [
       "array([4, 3, 0, 1, 1, 1, 4, 2, 2, 7, 2, 0, 0, 4, 1, 1, 0, 3, 3, 2, 3, 1, 3,\n",
       "       3, 3, 3, 4, 1, 3, 3, 3, 2, 7, 3, 2, 2, 2, 3, 2, 4, 2, 1, 2, 2, 2, 4,\n",
       "       7, 7, 3, 5, 1, 3, 3, 3, 4, 2, 4, 2, 4, 5, 0, 1, 3, 3, 3, 0, 4, 3, 3,\n",
       "       3, 3, 3, 3, 3, 3, 2, 3, 3, 1, 3, 4, 4, 2, 1, 0, 2, 1, 4, 2, 2, 2, 2,\n",
       "       4, 5, 1, 4, 3, 4, 3, 3, 0, 4, 3, 3, 2, 1, 2, 2, 2, 0, 1, 4, 3, 1, 4,\n",
       "       2, 2, 2, 0, 0, 4, 6, 2, 3, 3, 3, 2, 5, 1, 3, 1, 4, 3, 3, 2, 2, 7, 7,\n",
       "       2, 0, 0, 0, 2, 0, 0, 2, 1, 2, 0, 0, 0, 4, 2, 3, 3, 3, 3, 3, 3, 4, 3,\n",
       "       3, 3, 2, 0, 2, 3, 3, 1, 3, 4, 3, 2, 3, 3, 3, 3, 3, 3, 3, 3, 3, 4, 2,\n",
       "       1, 2, 2, 2, 2, 4, 1, 2, 4, 3, 2, 2, 2, 2, 2, 4, 3, 3, 2, 2, 0, 0, 0,\n",
       "       2, 4, 3, 2, 3, 2, 2, 3, 3, 5, 3, 3, 3, 3, 2, 2, 2, 3, 2, 2, 3, 4, 2,\n",
       "       3, 4, 7, 3, 4, 4, 3, 4, 4, 3, 3, 3, 3, 3, 3, 3, 3, 3, 3, 4, 1, 0, 2,\n",
       "       3, 4, 7, 2, 0, 2, 2, 2, 1, 3, 4, 0, 0, 0, 5, 3, 5, 2, 2, 1, 0, 1, 4,\n",
       "       0, 3, 3, 3, 3, 4, 2, 2, 2, 2, 2, 2, 4, 2, 0, 4, 3, 0, 0, 0, 0, 0, 7,\n",
       "       1, 1, 7, 1, 7, 2, 4, 0, 3, 3, 2, 3, 2, 2, 2, 2, 0, 0, 0, 0, 0, 2, 4,\n",
       "       2, 2, 4, 2, 2, 1, 4, 2, 4, 2, 2, 2, 2, 2, 2, 2, 4, 2, 2, 4, 0, 4, 5,\n",
       "       1, 4, 3, 2, 0, 7, 4, 5, 1, 2, 4, 0, 3, 1, 3, 8, 8, 0, 4, 7, 2, 2, 2,\n",
       "       1, 2, 8, 8, 4, 0, 4, 1, 4, 4, 4, 3, 3, 4, 2, 5, 5, 5, 4, 7, 2, 4, 2,\n",
       "       2, 2, 3, 2, 2, 4, 4, 3, 3, 4, 2, 0, 0, 0, 2, 1, 0, 0, 4, 3, 2, 2, 1,\n",
       "       2, 0, 1, 1, 2, 3, 4, 1, 1, 0, 1, 0, 4, 4, 1, 3, 0, 3, 3, 3, 3, 3, 3,\n",
       "       3, 1, 0, 0, 2, 1, 4, 7, 5, 2, 3, 5, 3, 7, 5, 3, 4, 2, 1, 2, 2, 3, 3,\n",
       "       0, 0, 2, 4, 3, 4, 7, 3, 4, 0, 0, 0, 0, 4, 4, 1, 4, 2, 2, 2, 2, 2, 2,\n",
       "       2, 2, 2, 2, 2, 2, 2, 2, 2, 2, 2, 2, 2, 4, 0, 0, 5, 3, 3, 3, 3, 4, 4,\n",
       "       3, 0, 0, 4, 3, 2, 4, 3, 3, 3, 4, 5, 5, 2, 2, 2, 2, 5, 0, 5, 2, 1, 2,\n",
       "       4, 2, 2, 0, 3, 3, 0, 3, 4, 3, 3, 3, 4, 0, 0, 0, 1, 3, 1, 2, 3, 3, 3,\n",
       "       3, 3, 3, 4, 0, 2, 3, 3, 4, 2, 3, 3, 0, 2, 3, 3, 4, 3, 2, 4, 0, 0, 2,\n",
       "       3, 3, 4, 2, 2, 2, 2, 3, 3, 5, 5, 4, 5, 2, 2, 3, 3, 2, 2, 4, 2, 6, 1,\n",
       "       4, 0, 0, 2, 2, 1, 3, 3, 3, 3, 2, 2, 4, 2, 1, 4, 2, 1, 4, 3, 1, 1, 1,\n",
       "       4, 3, 3, 3, 4, 2, 7, 3, 7, 2, 1, 0, 3, 4, 7, 3, 4, 5, 1, 2, 3, 3, 3,\n",
       "       1, 4, 4, 3, 2, 4, 2, 2, 4, 2, 0, 4, 3, 5, 5, 4, 3, 3, 1, 3, 2, 1, 1,\n",
       "       4, 1, 1, 4, 1, 3, 4, 5, 4, 1, 1, 1, 1, 2, 2, 5, 4, 2, 4, 7, 1, 6, 4,\n",
       "       7, 5, 4, 7, 3, 2, 2, 4, 3, 3, 3, 3, 2, 3, 2, 2, 2, 2, 5, 2, 1, 2, 2,\n",
       "       2, 2, 4, 5, 4, 2, 2, 2, 3, 0, 3, 3, 4, 3, 4, 4, 5, 1, 4, 3, 3, 4, 2,\n",
       "       1, 4, 5, 4, 4, 0, 2, 4, 1, 2, 4, 3, 3, 3, 3, 4, 3, 4, 4, 4, 5, 4, 7,\n",
       "       2, 2, 4, 1, 3, 2, 1, 1, 1, 1, 1, 1, 3, 4, 3, 7, 4, 2, 2, 3, 4, 5, 0,\n",
       "       2, 5, 5, 5, 5, 5, 2, 3, 2, 4, 0, 4, 3, 3, 3, 3, 3, 2, 7, 7, 0, 1, 4,\n",
       "       5, 2, 3, 3, 3, 2, 4, 3, 3, 2, 2, 5, 4, 4, 4, 4, 4, 4, 4, 4, 8, 3, 4,\n",
       "       8, 8], dtype=int64)"
      ]
     },
     "execution_count": 101,
     "metadata": {},
     "output_type": "execute_result"
    }
   ],
   "source": [
    "y_labelencoder=LabelEncoder()\n",
    "y=y_labelencoder.fit_transform(y)\n",
    "y"
   ]
  },
  {
   "cell_type": "code",
   "execution_count": 102,
   "metadata": {},
   "outputs": [
    {
     "data": {
      "text/plain": [
       "166"
      ]
     },
     "execution_count": 102,
     "metadata": {},
     "output_type": "execute_result"
    }
   ],
   "source": [
    "from sklearn.model_selection import train_test_split\n",
    "x_train,x_test,y_train,y_test=train_test_split(x,y,test_size=.20,random_state=0)\n",
    "x_train\n",
    "y_test.size\n"
   ]
  },
  {
   "cell_type": "code",
   "execution_count": 103,
   "metadata": {},
   "outputs": [
    {
     "data": {
      "text/plain": [
       "LogisticRegression(C=1.0, class_weight=None, dual=False, fit_intercept=True,\n",
       "          intercept_scaling=1, max_iter=100, multi_class='ovr', n_jobs=1,\n",
       "          penalty='l2', random_state=0, solver='liblinear', tol=0.0001,\n",
       "          verbose=0, warm_start=False)"
      ]
     },
     "execution_count": 103,
     "metadata": {},
     "output_type": "execute_result"
    }
   ],
   "source": [
    "from sklearn.linear_model import LogisticRegression\n",
    "LogR = LogisticRegression(random_state=0)\n",
    "LogR.fit (x_train,y_train)\n"
   ]
  },
  {
   "cell_type": "code",
   "execution_count": 104,
   "metadata": {},
   "outputs": [
    {
     "name": "stdout",
     "output_type": "stream",
     "text": [
      "0.55421686747\n"
     ]
    }
   ],
   "source": [
    "from sklearn.metrics import accuracy_score\n",
    "result = LogR.predict(x_test)\n",
    "print(accuracy_score(result,y_test))"
   ]
  },
  {
   "cell_type": "code",
   "execution_count": 106,
   "metadata": {},
   "outputs": [
    {
     "data": {
      "text/plain": [
       "array([[ 1,  0,  7,  9,  0,  0,  0,  0,  0],\n",
       "       [ 1,  3,  9,  5,  0,  0,  0,  1,  0],\n",
       "       [ 0,  2, 26, 19,  0,  0,  0,  0,  0],\n",
       "       [ 1,  1, 12, 32,  0,  0,  0,  0,  0],\n",
       "       [ 0,  0,  0,  0, 22,  0,  0,  0,  0],\n",
       "       [ 0,  0,  0,  0,  0,  5,  0,  0,  0],\n",
       "       [ 0,  0,  0,  1,  0,  0,  0,  0,  0],\n",
       "       [ 0,  0,  4,  0,  0,  0,  0,  3,  0],\n",
       "       [ 0,  0,  0,  2,  0,  0,  0,  0,  0]], dtype=int64)"
      ]
     },
     "execution_count": 106,
     "metadata": {},
     "output_type": "execute_result"
    }
   ],
   "source": [
    "from sklearn.metrics import confusion_matrix\n",
    "ConfusionMatrix = confusion_matrix(y_test,result)\n",
    "ConfusionMatrix"
   ]
  }
 ],
 "metadata": {
  "kernelspec": {
   "display_name": "Python 3",
   "language": "python",
   "name": "python3"
  },
  "language_info": {
   "codemirror_mode": {
    "name": "ipython",
    "version": 3
   },
   "file_extension": ".py",
   "mimetype": "text/x-python",
   "name": "python",
   "nbconvert_exporter": "python",
   "pygments_lexer": "ipython3",
   "version": "3.6.3"
  }
 },
 "nbformat": 4,
 "nbformat_minor": 2
}
